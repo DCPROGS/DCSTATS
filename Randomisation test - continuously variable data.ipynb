{
 "cells": [
  {
   "cell_type": "markdown",
   "metadata": {},
   "source": [
    "RANTEST performs a randomisation test to compare two independent samples.  According to the null hypothesis of    no-difference, each outcome would have been the same regardless of which group the individual happened to be allocated to.  Therefore all N = n1 + n2 observations are pooled and, as in the actual experiment, divided at random into groups of size n1 and n2.  The fraction of randomisations that gives rise to a difference between the groups at least as large as that observed gives the P value.\n",
    "\n",
    "In the binomial case, in which the measurement is the fraction of 'successes' in each sample (say r1 out of n1, and r2 out of n2) a 'success' is given a score of 1, 'failure' scores 0.\n",
    "Randomisation test on binomial data could be done using as criterion: \n",
    "(1) number of successes in set 1 (r1) or \n",
    "(2) difference between the p=r/n values.\n",
    "Both criteria give the same one-tail P value. Use of r1 as criterion is the direct Monte Carlo equivalent of summing the the exact Fisher test probabilities for the observed 2x2 table with those for all tables that depart further from the null hypothesis in the observed direction. A 2-tail probablilty can be found by doubling the one-tail value, at least if the displayed distribution is symmetrical. Use of (p1-p2) as criterion gives both one and two-tail     probabilities directly by seeing how many random allocations of the observations to groups of size n1 and n2 produce and absolute value of (p1-p2) at least as big as that observed."
   ]
  },
  {
   "cell_type": "code",
   "execution_count": 1,
   "metadata": {},
   "outputs": [],
   "source": [
    "%matplotlib inline\n",
    "import matplotlib\n",
    "import matplotlib.pyplot as plt"
   ]
  },
  {
   "cell_type": "code",
   "execution_count": 2,
   "metadata": {},
   "outputs": [],
   "source": [
    "from dcstats.rantest import RantestContinuous\n",
    "from dcstats.basic_stats import TTestContinuous\n",
    "from dcstats.Hedges import Hedges_d"
   ]
  },
  {
   "cell_type": "code",
   "execution_count": 3,
   "metadata": {},
   "outputs": [],
   "source": [
    "# Samples from treatment T1 and T2\n",
    "T1 = [100, 108, 119, 127, 132, 135, 136]#, 164]\n",
    "T2 = [122, 130, 138, 142, 152, 154, 176]\n",
    "are_paired = False"
   ]
  },
  {
   "cell_type": "markdown",
   "metadata": {},
   "source": [
    "### Calculate basic statistics"
   ]
  },
  {
   "cell_type": "code",
   "execution_count": 4,
   "metadata": {},
   "outputs": [],
   "source": [
    "ttc = TTestContinuous(T1, T2, are_paired)"
   ]
  },
  {
   "cell_type": "code",
   "execution_count": 5,
   "metadata": {},
   "outputs": [
    {
     "name": "stdout",
     "output_type": "stream",
     "text": [
      "n \t\t 7      \t  7\n",
      "Mean \t\t 122.428571    \t  144.857143\n",
      "SD \t\t 14.010200     \t  17.808505\n",
      "SDM \t\t 5.295358     \t  6.730982\n",
      "95% confidence intervals:\n",
      "lower \t\t 112.049670    \t  131.664418\n",
      "upper \t\t 132.807473    \t  158.049868\n",
      "\n",
      " Mean difference (dbar) = \t -22.428571\n",
      "  s(d) = \t 8.100558 \t s(dbar) = \t 3.061723\n",
      "\n",
      " Two-sample unpaired Students t-test:\n",
      " t = \t -2.618850\n",
      " two tail P = \t 2.243E-02\n"
     ]
    }
   ],
   "source": [
    "print(ttc)"
   ]
  },
  {
   "cell_type": "markdown",
   "metadata": {},
   "source": [
    "### Calculate Hedges statistics"
   ]
  },
  {
   "cell_type": "code",
   "execution_count": 6,
   "metadata": {},
   "outputs": [
    {
     "name": "stdout",
     "output_type": "stream",
     "text": [
      "\n",
      "\n",
      "Effect size\n",
      "  Hedges unbiased d = \t 1.310483\n",
      "  approximate 95% confidence intervals \n",
      "  upper 95% CI =\t 2.445723\n",
      "  lower 95% CI =\t 0.625951\n"
     ]
    }
   ],
   "source": [
    "#calculation of hedges d and approximate 95% confidence intervals\n",
    "#not tested against known values yet AP 170518\n",
    "hedges_calculation = Hedges_d(T1, T2)\n",
    "hedges_calculation.hedges_d_unbiased()\n",
    "#paired needed for degrees of freedom\n",
    "lowerCI, upperCI = hedges_calculation.bootstrap_CI(5000)\n",
    "#option to have bootstrap calculated CIs should go here\n",
    "print(hedges_calculation)"
   ]
  },
  {
   "cell_type": "markdown",
   "metadata": {},
   "source": [
    "### Run randomisation tests"
   ]
  },
  {
   "cell_type": "code",
   "execution_count": 7,
   "metadata": {},
   "outputs": [],
   "source": [
    "nran = 50000\n",
    "rnt = RantestContinuous(T1, T2, are_paired)    \n",
    "rnt.run_rantest(nran)"
   ]
  },
  {
   "cell_type": "code",
   "execution_count": 8,
   "metadata": {},
   "outputs": [
    {
     "name": "stdout",
     "output_type": "stream",
     "text": [
      "\n",
      "Rantest:  50000 randomisations\n",
      "Two-tailed P = 2.078e-02\t(greater than or equal in absolute value to observed)\n"
     ]
    }
   ],
   "source": [
    "print(rnt)"
   ]
  },
  {
   "cell_type": "code",
   "execution_count": 9,
   "metadata": {},
   "outputs": [
    {
     "name": "stdout",
     "output_type": "stream",
     "text": [
      "Red line: mean difference\n"
     ]
    },
    {
     "data": {
      "image/png": "[encoded data removed]",
      "text/plain": [
       "<Figure size 360x216 with 1 Axes>"
      ]
     },
     "metadata": {},
     "output_type": "display_data"
    }
   ],
   "source": [
    "fig, ax  = plt.subplots(1,1, figsize=(5,3))\n",
    "ax.hist(rnt.randiff, 10)\n",
    "ax.axvline(x=rnt.dbar, color='r')\n",
    "ax.axvline(x=-rnt.dbar, color='r')\n",
    "ax.set_ylabel(\"Frequency\")\n",
    "ax.set_xlabel('Random difference between means')\n",
    "print('Red line: observed difference')"
   ]
  },
  {
   "cell_type": "markdown",
   "metadata": {
    "collapsed": true
   },
   "source": [
    "What id measurements were paired?"
   ]
  },
  {
   "cell_type": "code",
   "execution_count": 10,
   "metadata": {},
   "outputs": [],
   "source": [
    "ttc = TTestContinuous(T1, T2, True)"
   ]
  },
  {
   "cell_type": "code",
   "execution_count": 11,
   "metadata": {},
   "outputs": [
    {
     "name": "stdout",
     "output_type": "stream",
     "text": [
      "n \t\t 7      \t  7\n",
      "Mean \t\t 122.428571    \t  144.857143\n",
      "SD \t\t 14.010200     \t  17.808505\n",
      "SDM \t\t 5.295358     \t  6.730982\n",
      "95% confidence intervals:\n",
      "lower \t\t 112.049670    \t  131.664418\n",
      "upper \t\t 132.807473    \t  158.049868\n",
      "\n",
      " Mean difference (dbar) = \t -22.428571\n",
      "  s(d) = \t 8.100558 \t s(dbar) = \t 3.061723\n",
      "\n",
      " Paired Students t-test:\n",
      "  t(6)= \t dbar / s(dbar) \t = \t -7.325473\n",
      "  two tail P =\t 0.000331\n"
     ]
    }
   ],
   "source": [
    "print(ttc)"
   ]
  },
  {
   "cell_type": "code",
   "execution_count": 12,
   "metadata": {},
   "outputs": [],
   "source": [
    "nran = 50000\n",
    "rnt = RantestContinuous(T1, T2, True)    \n",
    "rnt.run_rantest(nran)"
   ]
  },
  {
   "cell_type": "code",
   "execution_count": 13,
   "metadata": {},
   "outputs": [
    {
     "name": "stdout",
     "output_type": "stream",
     "text": [
      "\n",
      "Rantest:  50000 randomisations\n",
      "Two-tailed P = 1.604e-02\t(greater than or equal in absolute value to observed)\n"
     ]
    }
   ],
   "source": [
    "print(rnt)"
   ]
  },
  {
   "cell_type": "code",
   "execution_count": 14,
   "metadata": {},
   "outputs": [
    {
     "name": "stdout",
     "output_type": "stream",
     "text": [
      "Red line: mean difference\n"
     ]
    },
    {
     "data": {
      "image/png": "[encoded data removed]",
      "text/plain": [
       "<Figure size 360x216 with 1 Axes>"
      ]
     },
     "metadata": {},
     "output_type": "display_data"
    }
   ],
   "source": [
    "fig, ax  = plt.subplots(1,1, figsize=(5,3))\n",
    "ax.hist(rnt.randiff, 10)\n",
    "ax.axvline(x=rnt.dbar, color='r')\n",
    "ax.axvline(x=-rnt.dbar, color='r')\n",
    "ax.set_ylabel(\"Frequency\")\n",
    "ax.set_xlabel('Random mean of differences')\n",
    "print('Red line: observed difference')"
   ]
  },
  {
   "cell_type": "code",
   "execution_count": null,
   "metadata": {},
   "outputs": [],
   "source": []
  }
 ],
 "metadata": {
  "kernelspec": {
   "display_name": "Python 3",
   "language": "python",
   "name": "python3"
  },
  "language_info": {
   "codemirror_mode": {
    "name": "ipython",
    "version": 3
   },
   "file_extension": ".py",
   "mimetype": "text/x-python",
   "name": "python",
   "nbconvert_exporter": "python",
   "pygments_lexer": "ipython3",
   "version": "3.6.5"
  }
 },
 "nbformat": 4,
 "nbformat_minor": 2
}
