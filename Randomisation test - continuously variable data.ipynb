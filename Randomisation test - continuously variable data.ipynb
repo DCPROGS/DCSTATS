{
 "cells": [
  {
   "cell_type": "markdown",
   "metadata": {},
   "source": [
    "RANTEST performs a randomisation test to compare two independent samples.  According to the null hypothesis of    no-difference, each outcome would have been the same regardless of which group the individual happened to be allocated to.  Therefore all N = n1 + n2 observations are pooled and, as in the actual experiment, divided at random into groups of size n1 and n2.  The fraction of randomisations that gives rise to a difference between the groups at least as large as that observed gives the P value.\n",
    "\n",
    "In the binomial case, in which the measurement is the fraction of 'successes' in each sample (say r1 out of n1, and r2 out of n2) a 'success' is given a score of 1, 'failure' scores 0.\n",
    "Randomisation test on binomial data could be done using as criterion: \n",
    "(1) number of successes in set 1 (r1) or \n",
    "(2) difference between the p=r/n values.\n",
    "Both criteria give the same one-tail P value. Use of r1 as criterion is the direct Monte Carlo equivalent of summing the the exact Fisher test probabilities for the observed 2x2 table with those for all tables that depart further from the null hypothesis in the observed direction. A 2-tail probablilty can be found by doubling the one-tail value, at least if the displayed distribution is symmetrical. Use of (p1-p2) as criterion gives both one and two-tail     probabilities directly by seeing how many random allocations of the observations to groups of size n1 and n2 produce and absolute value of (p1-p2) at least as big as that observed."
   ]
  },
  {
   "cell_type": "code",
   "execution_count": 1,
   "metadata": {
    "collapsed": true
   },
   "outputs": [],
   "source": [
    "%matplotlib inline\n",
    "import matplotlib\n",
    "import matplotlib.pyplot as plt"
   ]
  },
  {
   "cell_type": "code",
   "execution_count": 2,
   "metadata": {
    "collapsed": false
   },
   "outputs": [],
   "source": [
    "from dcstats.rantest import RantestContinuous\n",
    "from dcstats.basic_stats import TTestContinuous"
   ]
  },
  {
   "cell_type": "code",
   "execution_count": 3,
   "metadata": {
    "collapsed": false
   },
   "outputs": [],
   "source": [
    "# Samples from treatment T1 and T2\n",
    "T1 = [100, 108, 119, 127, 132, 135, 136] #, 164]\n",
    "T2 = [122, 130, 138, 142, 152, 154, 176]\n",
    "are_paired = False"
   ]
  },
  {
   "cell_type": "markdown",
   "metadata": {},
   "source": [
    "Calculate basic statistics"
   ]
  },
  {
   "cell_type": "code",
   "execution_count": 4,
   "metadata": {
    "collapsed": true
   },
   "outputs": [],
   "source": [
    "ttc = TTestContinuous(T1, T2, are_paired)"
   ]
  },
  {
   "cell_type": "code",
   "execution_count": 5,
   "metadata": {
    "collapsed": false
   },
   "outputs": [
    {
     "name": "stdout",
     "output_type": "stream",
     "text": [
      "n \t\t 7      \t  7\n",
      "Mean \t\t 122.428571    \t  144.857143\n",
      "SD \t\t 14.010200     \t  17.808505\n",
      "SDM \t\t 5.295358     \t  6.730982\n",
      "\n",
      " Mean difference (dbar) = \t -22.428571\n",
      "  s(d) = \t 8.100558 \t s(dbar) = \t 3.061723\n",
      "\n",
      " Two-sample unpaired Students t-test:\n",
      " t = \t -2.618850\n",
      " two tail P = \t 0.022432\n"
     ]
    }
   ],
   "source": [
    "print(ttc)"
   ]
  },
  {
   "cell_type": "markdown",
   "metadata": {},
   "source": [
    "Run randomisation tests"
   ]
  },
  {
   "cell_type": "code",
   "execution_count": 6,
   "metadata": {
    "collapsed": false
   },
   "outputs": [],
   "source": [
    "nran = 50000\n",
    "rnt = RantestContinuous(T1, T2, are_paired)    \n",
    "rnt.run_rantest(nran)"
   ]
  },
  {
   "cell_type": "code",
   "execution_count": 7,
   "metadata": {
    "collapsed": false
   },
   "outputs": [
    {
     "name": "stdout",
     "output_type": "stream",
     "text": [
      "\n",
      "\n",
      "   Rantest:  50000 randomisations\n",
      " P values for difference between means \n",
      "  greater than or equal to observed: P = \t 0.990440\n",
      "  less than or equal to observed: P = \t 0.010600\n",
      "  greater than or equal in absolute value to observed: P = \t 0.021300\n",
      "  Number equal to observed = 52 (P= 0.001040)\n",
      "  Number equal in absolute value to observed = 115 (P= 0.002300)\n"
     ]
    }
   ],
   "source": [
    "print(rnt)"
   ]
  },
  {
   "cell_type": "code",
   "execution_count": 8,
   "metadata": {
    "collapsed": false
   },
   "outputs": [
    {
     "name": "stdout",
     "output_type": "stream",
     "text": [
      "Red line: mean difference\n"
     ]
    },
    {
     "data": {
      "image/png": "[encoded data removed]",
      "text/plain": [
       "<matplotlib.figure.Figure at 0x1d6821e6390>"
      ]
     },
     "metadata": {},
     "output_type": "display_data"
    }
   ],
   "source": [
    "fig, ax  = plt.subplots(1,1, figsize=(5,3))\n",
    "ax.hist(rnt.randiff, 10)\n",
    "ax.axvline(x=rnt.dbar, color='r')\n",
    "ax.set_ylabel(\"Frequency\")\n",
    "ax.set_xlabel('Random difference between means')\n",
    "print('Red line: mean difference')"
   ]
  },
  {
   "cell_type": "markdown",
   "metadata": {
    "collapsed": true
   },
   "source": [
    "What id measurements were paired?"
   ]
  },
  {
   "cell_type": "code",
   "execution_count": 9,
   "metadata": {
    "collapsed": true
   },
   "outputs": [],
   "source": [
    "ttc = TTestContinuous(T1, T2, True)"
   ]
  },
  {
   "cell_type": "code",
   "execution_count": 10,
   "metadata": {
    "collapsed": false
   },
   "outputs": [
    {
     "name": "stdout",
     "output_type": "stream",
     "text": [
      "n \t\t 7      \t  7\n",
      "Mean \t\t 122.428571    \t  144.857143\n",
      "SD \t\t 14.010200     \t  17.808505\n",
      "SDM \t\t 5.295358     \t  6.730982\n",
      "\n",
      " Mean difference (dbar) = \t -22.428571\n",
      "  s(d) = \t 8.100558 \t s(dbar) = \t 3.061723\n",
      "\n",
      " Paired Students t-test:\n",
      "  t(6)= \t dbar / s(dbar) \t = \t -7.325473\n",
      "  two tail P =\t 0.000331\n"
     ]
    }
   ],
   "source": [
    "print(ttc)"
   ]
  },
  {
   "cell_type": "code",
   "execution_count": 11,
   "metadata": {
    "collapsed": true
   },
   "outputs": [],
   "source": [
    "nran = 50000\n",
    "rnt = RantestContinuous(T1, T2, True)    \n",
    "rnt.run_rantest(nran)"
   ]
  },
  {
   "cell_type": "code",
   "execution_count": 12,
   "metadata": {
    "collapsed": false
   },
   "outputs": [
    {
     "name": "stdout",
     "output_type": "stream",
     "text": [
      "\n",
      "\n",
      "   Rantest:  50000 randomisations\n",
      " P values for difference between means \n",
      "  greater than or equal to observed: P = \t 1.000000\n",
      "  less than or equal to observed: P = \t 0.008180\n",
      "  greater than or equal in absolute value to observed: P = \t 0.016880\n",
      "  Number equal to observed = 409 (P= 0.008180)\n",
      "  Number equal in absolute value to observed = 844 (P= 0.016880)\n"
     ]
    }
   ],
   "source": [
    "print(rnt)"
   ]
  },
  {
   "cell_type": "code",
   "execution_count": 13,
   "metadata": {
    "collapsed": false
   },
   "outputs": [
    {
     "name": "stdout",
     "output_type": "stream",
     "text": [
      "Red line: mean difference\n"
     ]
    },
    {
     "data": {
      "image/png": "[encoded data removed]",
      "text/plain": [
       "<matplotlib.figure.Figure at 0x1d68264cc88>"
      ]
     },
     "metadata": {},
     "output_type": "display_data"
    }
   ],
   "source": [
    "fig, ax  = plt.subplots(1,1, figsize=(5,3))\n",
    "ax.hist(rnt.randiff, 10)\n",
    "ax.axvline(x=rnt.dbar, color='r')\n",
    "ax.set_ylabel(\"Frequency\")\n",
    "ax.set_xlabel('Random mean of differences')\n",
    "print('Red line: mean difference')"
   ]
  },
  {
   "cell_type": "code",
   "execution_count": null,
   "metadata": {
    "collapsed": true
   },
   "outputs": [],
   "source": []
  }
 ],
 "metadata": {
  "kernelspec": {
   "display_name": "Python 3",
   "language": "python",
   "name": "python3"
  },
  "language_info": {
   "codemirror_mode": {
    "name": "ipython",
    "version": 3
   },
   "file_extension": ".py",
   "mimetype": "text/x-python",
   "name": "python",
   "nbconvert_exporter": "python",
   "pygments_lexer": "ipython3",
   "version": "3.6.0"
  }
 },
 "nbformat": 4,
 "nbformat_minor": 2
}
