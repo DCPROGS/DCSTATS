{
 "cells": [
  {
   "cell_type": "code",
   "execution_count": 1,
   "metadata": {},
   "outputs": [],
   "source": [
    "%matplotlib inline\n",
    "import matplotlib\n",
    "import matplotlib.pyplot as plt"
   ]
  },
  {
   "cell_type": "code",
   "execution_count": 2,
   "metadata": {},
   "outputs": [],
   "source": [
    "import numpy as np"
   ]
  },
  {
   "cell_type": "markdown",
   "metadata": {},
   "source": [
    "FIELLER: calculates confidence limits for a ratio according Fieller's theorem. Output includes the approximate SD of the ratio r = a / b, given the SD of a (the numerator) and of b (the denominator) and the correlation coefficient between a & b (zero if they are independent). \n",
    "Fieller requires the t-statistic which can be provided from a table or calculated from alpha and the degrees of freedom. Alpha-level deviation is for two tailed distribution (e.g. 0.05 leaves 90% area)."
   ]
  },
  {
   "cell_type": "code",
   "execution_count": 3,
   "metadata": {
    "scrolled": true
   },
   "outputs": [],
   "source": [
    "from dcstats.fieller import Fieller"
   ]
  },
  {
   "cell_type": "code",
   "execution_count": 4,
   "metadata": {},
   "outputs": [],
   "source": [
    "a, b = 14, 7 # Nominator and denominator\n",
    "sa, sb = 3, 2 # SD of nominator and denominator\n",
    "r = 0 # Correlation coefficient (a,b)\n",
    "alpha = 0.05 # alpha\n",
    "n = 12 # Total number of observations na + nb"
   ]
  },
  {
   "cell_type": "code",
   "execution_count": 5,
   "metadata": {},
   "outputs": [],
   "source": [
    "flr = Fieller(a, b, sa, sb, r, alpha, n)"
   ]
  },
  {
   "cell_type": "code",
   "execution_count": 6,
   "metadata": {},
   "outputs": [
    {
     "name": "stdout",
     "output_type": "stream",
     "text": [
      "\n",
      " Fieller calculation result: \n",
      " Ratio (a/b) = 2.000000\n",
      " t(df=10, alpha=0.05) = 2.228138\n",
      "\n",
      " Confidence limits: lower 0.889734, upper 5.836045\n",
      " Approximate SD of ratio = 0.714286\n",
      " Approximate CV of ratio (%) = 35.714286\n",
      " Approximate limits: lower 0.408473, upper 3.591527\n"
     ]
    }
   ],
   "source": [
    "print(flr)"
   ]
  },
  {
   "cell_type": "markdown",
   "metadata": {
    "collapsed": true
   },
   "source": [
    "### Some explorations below"
   ]
  },
  {
   "cell_type": "markdown",
   "metadata": {},
   "source": [
    "Following are results from GraphPad calculator:   \n",
    "https://www.graphpad.com/quickcalcs/errorProp2/"
   ]
  },
  {
   "cell_type": "markdown",
   "metadata": {},
   "source": [
    " CI of a quotient\n",
    "\n",
    "Mean of Variable A divided by Mean of Variable B = 2.00\n",
    "\n",
    "|         |                    |\n",
    "|---------|--------------------|\n",
    "| 90% CI: |   1.54 \tto \t2.64   |\n",
    "| 95% CI: |   1.46 \tto \t2.83   |\n",
    "| 99% CI: |\t  1.27 \tto \t3.36   |\n",
    "\n",
    " Variables:\n",
    "\n",
    "|     |  Variable A  |  Variable B   |\n",
    "|-----|--------------|---------------|\n",
    "|Mean |\t  14.00      |    7.00       |\n",
    "|SD   |   3.00 \t     |    2.00       |\n",
    "|SEM  |\t  1.22 \t     |    0.82       |\n",
    "|N \t  |    6 \t     |     6         |\n",
    "\n",
    "These results assume that both variables follow a Gaussian distribution\n",
    "and that the measurements of Variable A are not paired or matched to\n",
    "measurements of Variable B.\n",
    "\n",
    "Results computed by the method of EC Fieller, Suppl to\n",
    "J.R.Statist.Soc, 7,1-64"
   ]
  },
  {
   "cell_type": "markdown",
   "metadata": {},
   "source": [
    "Wikipedia:   https://en.wikipedia.org/wiki/Fieller%27s_theorem"
   ]
  },
  {
   "cell_type": "markdown",
   "metadata": {},
   "source": [
    "### Generate random samples"
   ]
  },
  {
   "cell_type": "code",
   "execution_count": 7,
   "metadata": {},
   "outputs": [
    {
     "data": {
      "text/plain": [
       "array([13.91929332, 11.93217894, 16.68841531, 12.00697301, 17.06415974,\n",
       "       11.28259094])"
      ]
     },
     "execution_count": 7,
     "metadata": {},
     "output_type": "execute_result"
    }
   ],
   "source": [
    "np.random.seed(1984)\n",
    "T1 = np.random.normal(loc=14.0, scale=3.0, size=6)\n",
    "T1"
   ]
  },
  {
   "cell_type": "code",
   "execution_count": 8,
   "metadata": {},
   "outputs": [
    {
     "data": {
      "text/plain": [
       "array([8.45046464, 5.13399866, 6.9867855 , 5.67841247, 9.41553608,\n",
       "       8.57737076])"
      ]
     },
     "execution_count": 8,
     "metadata": {},
     "output_type": "execute_result"
    }
   ],
   "source": [
    "T2 = np.random.normal(loc=7.0, scale=2.0, size=6)\n",
    "T2"
   ]
  },
  {
   "cell_type": "code",
   "execution_count": 9,
   "metadata": {},
   "outputs": [
    {
     "name": "stdout",
     "output_type": "stream",
     "text": [
      "T1: mean= 13.816, SD= 2.532\n",
      "T2: mean= 7.374, SD= 1.721\n",
      "Ratio (T1/T2)= 1.874\n"
     ]
    }
   ],
   "source": [
    "print('T1: mean= {0:.3f}, SD= {1:.3f}'.format(np.mean(T1), np.std(T1, ddof=1)))\n",
    "print('T2: mean= {0:.3f}, SD= {1:.3f}'.format(np.mean(T2), np.std(T2, ddof=1)))\n",
    "print('Ratio (T1/T2)= {0:.3f}'.format(np.mean(T1) / np.mean(T2)))"
   ]
  },
  {
   "cell_type": "code",
   "execution_count": 10,
   "metadata": {},
   "outputs": [],
   "source": [
    "def bootstrap_ratio(S1, S2, runs=5000):\n",
    "    ratios = np.zeros(runs)\n",
    "    #mean = np.mean(S)\n",
    "    for i in range(runs):\n",
    "        a = np.mean(np.random.choice(S1, size=len(S1), replace=True))\n",
    "        b = np.mean(np.random.choice(S2, size=len(S2), replace=True))\n",
    "        ratios[i] = a / b\n",
    "    ratios.sort()\n",
    "    return ratios"
   ]
  },
  {
   "cell_type": "code",
   "execution_count": 11,
   "metadata": {},
   "outputs": [],
   "source": [
    "repeats = 50000\n",
    "booted = bootstrap_ratio(T1, T2, repeats)"
   ]
  },
  {
   "cell_type": "code",
   "execution_count": 12,
   "metadata": {},
   "outputs": [
    {
     "name": "stdout",
     "output_type": "stream",
     "text": [
      "ratio= 1.874; bootstrapped mean= 1.888; bias= -0.014\n",
      "bootstrapped SDM= 0.212\n"
     ]
    }
   ],
   "source": [
    "ratio_of_means = np.mean(T1) / np.mean(T2)\n",
    "print('ratio= {0:.3f}; bootstrapped mean= {1:.3f}; bias= {2:.3f}'.\n",
    "     format(ratio_of_means, np.mean(booted), ratio_of_means-np.mean(booted)))\n",
    "print('bootstrapped SDM= {0:.3f}'.format(np.std(booted, ddof=1)))"
   ]
  },
  {
   "cell_type": "code",
   "execution_count": 13,
   "metadata": {},
   "outputs": [
    {
     "name": "stdout",
     "output_type": "stream",
     "text": [
      "95% confidence limits (bootstrapping):\n",
      " lower= 1.525; upper= 2.348\n"
     ]
    }
   ],
   "source": [
    "lower95CI = booted[int(0.025 * repeats)]\n",
    "upper95CI = booted[int(0.975 * repeats)]\n",
    "print('95% confidence limits (bootstrapping):\\n lower= {0:.3f}; upper= {1:.3f}'\n",
    "      .format(lower95CI, upper95CI))"
   ]
  },
  {
   "cell_type": "markdown",
   "metadata": {},
   "source": [
    " GraphPad calculator (Fieller; normality assumption)\n",
    " \n",
    " 95% CI: 1.3023 to 2.7403 "
   ]
  },
  {
   "cell_type": "code",
   "execution_count": 14,
   "metadata": {},
   "outputs": [
    {
     "name": "stdout",
     "output_type": "stream",
     "text": [
      "Black solid line: original sample mean\n",
      "Black dashed line: bootstrap mean\n",
      "Red dashed lines: lower and upper 95% confidence limits\n"
     ]
    },
    {
     "data": {
      "image/png": "[encoded data removed]",
      "text/plain": [
       "<Figure size 360x216 with 1 Axes>"
      ]
     },
     "metadata": {},
     "output_type": "display_data"
    }
   ],
   "source": [
    "fig, ax  = plt.subplots(1,1, figsize=(5,3))\n",
    "ax.hist(booted, 20)\n",
    "ax.axvline(x=ratio_of_means, color='k')\n",
    "ax.axvline(x=np.mean(booted), color='k', linestyle=\"dashed\")\n",
    "ax.axvline(x=lower95CI, color='r', linestyle=\"dashed\")\n",
    "ax.axvline(x=upper95CI, color='r', linestyle=\"dashed\")\n",
    "ax.set_ylabel(\"Frequency\")\n",
    "ax.set_xlabel('Means')\n",
    "print('Black solid line: original sample mean')\n",
    "print('Black dashed line: bootstrap mean')\n",
    "print('Red dashed lines: lower and upper 95% confidence limits')"
   ]
  },
  {
   "cell_type": "code",
   "execution_count": 15,
   "metadata": {},
   "outputs": [],
   "source": [
    "flr1 = Fieller(np.mean(T1), np.mean(T2), np.std(T1, ddof=1), np.std(T2, ddof=1), \n",
    "              0, 0.05, len(T1)+len(T2))"
   ]
  },
  {
   "cell_type": "code",
   "execution_count": 16,
   "metadata": {},
   "outputs": [
    {
     "name": "stdout",
     "output_type": "stream",
     "text": [
      "\n",
      " Fieller calculation result: \n",
      " Ratio (a/b) = 1.873617\n",
      " t(df=10, alpha=0.05) = 2.228138\n",
      "\n",
      " Confidence limits: lower 0.960007, upper 4.177313\n",
      " Approximate SD of ratio = 0.556081\n",
      " Approximate CV of ratio (%) = 29.679550\n",
      " Approximate limits: lower 0.634591, upper 3.112642\n"
     ]
    }
   ],
   "source": [
    "print(flr1)"
   ]
  },
  {
   "cell_type": "markdown",
   "metadata": {},
   "source": [
    "### Expand Fieller calculation"
   ]
  },
  {
   "cell_type": "code",
   "execution_count": 17,
   "metadata": {},
   "outputs": [],
   "source": [
    "a = np.mean(T1)\n",
    "b = np.mean(T2)\n",
    "sa = np.std(T1, ddof=1)\n",
    "sb = np.std(T2, ddof=1)\n",
    "na = len(T1)\n",
    "nb = len(T1)\n",
    "r = 0"
   ]
  },
  {
   "cell_type": "code",
   "execution_count": 18,
   "metadata": {},
   "outputs": [
    {
     "name": "stdout",
     "output_type": "stream",
     "text": [
      "pooled variance= 4.686880655530482\n"
     ]
    }
   ],
   "source": [
    "va = sa * sa\n",
    "vb = sb * sb\n",
    "cov = r * sa * sb\n",
    "\n",
    "ratio = a / b\n",
    "rat2 = ratio * ratio\n",
    "\n",
    "#pooled variance\n",
    "vp = ((na - 1) * va + (nb - 1) * vb) / (na + nb - 2)\n",
    "print('pooled variance=', vp)"
   ]
  },
  {
   "cell_type": "code",
   "execution_count": 19,
   "metadata": {},
   "outputs": [
    {
     "name": "stdout",
     "output_type": "stream",
     "text": [
      "tval= 2.2281380370259285\n"
     ]
    }
   ],
   "source": [
    "import dcstats.statistics_EJ as s\n",
    "alpha = 0.05\n",
    "two_tail = 1 - alpha/2.0\n",
    "df = na + nb - 2\n",
    "tval = s.InverseStudentT(df, two_tail)\n",
    "print('tval=', tval)"
   ]
  },
  {
   "cell_type": "code",
   "execution_count": 20,
   "metadata": {},
   "outputs": [
    {
     "name": "stdout",
     "output_type": "stream",
     "text": [
      "g=  0.2705859457729724\n"
     ]
    }
   ],
   "source": [
    "#g = tval**2 * vp * vb / b**2\n",
    "g = tval**2 * vb / b**2\n",
    "print('g= ', g)"
   ]
  },
  {
   "cell_type": "code",
   "execution_count": 21,
   "metadata": {},
   "outputs": [
    {
     "name": "stdout",
     "output_type": "stream",
     "text": [
      "disc= 15.078812807969117\n"
     ]
    }
   ],
   "source": [
    "disc = va - 2.0 * ratio * cov + rat2 * vb - g * (va - r * r * va)\n",
    "print('disc=', disc)"
   ]
  },
  {
   "cell_type": "code",
   "execution_count": 22,
   "metadata": {},
   "outputs": [
    {
     "name": "stdout",
     "output_type": "stream",
     "text": [
      "d= 1.1733743487881436\n",
      "pre= 1.873616628169721\n",
      "f= 1.3709634386736858\n"
     ]
    }
   ],
   "source": [
    "d = (tval / b) * np.sqrt(disc)\n",
    "print('d=', d)\n",
    "pre = ratio - g * cov / vb\n",
    "print('pre=', pre)\n",
    "f = 1.0 / (1.0 - g)\n",
    "print('f=', f)"
   ]
  },
  {
   "cell_type": "code",
   "execution_count": 23,
   "metadata": {},
   "outputs": [
    {
     "name": "stdout",
     "output_type": "stream",
     "text": [
      "CIlower= 0.960; CIupper= 4.177\n"
     ]
    }
   ],
   "source": [
    "clower = f * (pre - d)\n",
    "cupper = f * (pre + d)\n",
    "print('CIlower= {0:.3f}; CIupper= {1:.3f}'.format(clower, cupper))"
   ]
  },
  {
   "cell_type": "markdown",
   "metadata": {},
   "source": [
    "##### Calculate approximate CI (also without correlation)"
   ]
  },
  {
   "cell_type": "code",
   "execution_count": 24,
   "metadata": {},
   "outputs": [
    {
     "name": "stdout",
     "output_type": "stream",
     "text": [
      "0.7517398782256791\n"
     ]
    }
   ],
   "source": [
    "disc_aprx = 1.0 / na + ratio**2 / nb\n",
    "print(disc_aprx)"
   ]
  },
  {
   "cell_type": "code",
   "execution_count": 25,
   "metadata": {},
   "outputs": [
    {
     "name": "stdout",
     "output_type": "stream",
     "text": [
      "0.5671902504656662\n"
     ]
    }
   ],
   "source": [
    "d_aprx = (tval * np.sqrt(vp) / b) * np.sqrt(disc_aprx)\n",
    "print(d_aprx)"
   ]
  },
  {
   "cell_type": "code",
   "execution_count": 26,
   "metadata": {},
   "outputs": [
    {
     "name": "stdout",
     "output_type": "stream",
     "text": [
      "approximate CI's: CIlower= 1.306; CIupper= 2.441\n"
     ]
    }
   ],
   "source": [
    "aclower = (ratio - d_aprx)\n",
    "acupper = (ratio + d_aprx)\n",
    "print(\"approximate CI's: CIlower= {0:.3f}; CIupper= {1:.3f}\".format(aclower, acupper))"
   ]
  },
  {
   "cell_type": "markdown",
   "metadata": {},
   "source": [
    "### Exploring ratio.py module"
   ]
  },
  {
   "cell_type": "code",
   "execution_count": 27,
   "metadata": {},
   "outputs": [],
   "source": [
    "from dcstats.ratio import Ratio"
   ]
  },
  {
   "cell_type": "code",
   "execution_count": 28,
   "metadata": {},
   "outputs": [],
   "source": [
    "rt = Ratio(T1, T2)"
   ]
  },
  {
   "cell_type": "code",
   "execution_count": 29,
   "metadata": {},
   "outputs": [
    {
     "name": "stdout",
     "output_type": "stream",
     "text": [
      "\n",
      "Ratio = 1.87 +/- 0.17 (approximate SDM)\n",
      "\tapproximate 95% confidence limits:\n",
      "\tlower= 1.5; upper= 2.24\n",
      "\tFieller 95% confidence limits:\n",
      "\tlower= 1.44; upper= 2.49\n",
      "\n",
      "Reciprocal = 0.534 +/- 0.089 (approximate SDM)\n",
      "\tapproximate 95% confidence limits:\n",
      "\tlower= 0.336; upper= 0.731\n"
     ]
    }
   ],
   "source": [
    "print(rt)"
   ]
  },
  {
   "cell_type": "code",
   "execution_count": 30,
   "metadata": {},
   "outputs": [],
   "source": [
    "rt.CIs_bootstrap(50000)"
   ]
  },
  {
   "cell_type": "code",
   "execution_count": 31,
   "metadata": {},
   "outputs": [
    {
     "name": "stdout",
     "output_type": "stream",
     "text": [
      "\n",
      "Ratio = 1.87 +/- 0.17 (approximate SDM)\n",
      "\tapproximate 95% confidence limits:\n",
      "\tlower= 1.5; upper= 2.24\n",
      "\tFieller 95% confidence limits:\n",
      "\tlower= 1.44; upper= 2.49\n",
      "\n",
      "Reciprocal = 0.534 +/- 0.089 (approximate SDM)\n",
      "\tapproximate 95% confidence limits:\n",
      "\tlower= 0.336; upper= 0.731\n",
      "\n",
      "Bootsrapping statistics; repeats = 50000\n",
      "Ratio= 1.87 +/- 0.21 (bootstrapped SDM); bias= -0.014\n",
      "\t95% confidence limits (bootstrapped):\n",
      "\tlower= 1.52; upper= 2.35\n",
      "Reciprocal= 0.534 +/- 0.059 (bootstrapped SDM)\n",
      "\t95% confidence limits (bootstrapped):\n",
      "\tlower= 0.425; upper= 0.657\n"
     ]
    }
   ],
   "source": [
    "print(rt)"
   ]
  },
  {
   "cell_type": "code",
   "execution_count": null,
   "metadata": {},
   "outputs": [],
   "source": []
  }
 ],
 "metadata": {
  "kernelspec": {
   "display_name": "Python 3",
   "language": "python",
   "name": "python3"
  },
  "language_info": {
   "codemirror_mode": {
    "name": "ipython",
    "version": 3
   },
   "file_extension": ".py",
   "mimetype": "text/x-python",
   "name": "python",
   "nbconvert_exporter": "python",
   "pygments_lexer": "ipython3",
   "version": "3.6.5"
  }
 },
 "nbformat": 4,
 "nbformat_minor": 2
}
