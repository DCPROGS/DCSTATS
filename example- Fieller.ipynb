{
 "cells": [
  {
   "cell_type": "markdown",
   "metadata": {},
   "source": [
    "FIELLER: calculates confidence limits for a ratio according Fieller's theorem. Output includes the approximate SD of the ratio r = a / b, given the SD of a (the numerator) and of b (the denominator) and the correlation coefficient between a & b (zero if they are independent). \n",
    "Fieller requires the t-statistic which can be provided from a table or calculated from alpha and the degrees of freedom. Alpha-level deviation is for two tailed distribution (e.g. 0.05 leaves 90% area)."
   ]
  },
  {
   "cell_type": "code",
   "execution_count": 1,
   "metadata": {
    "scrolled": true
   },
   "outputs": [],
   "source": [
    "from dcstats.fieller import Fieller"
   ]
  },
  {
   "cell_type": "code",
   "execution_count": 2,
   "metadata": {
    "collapsed": true
   },
   "outputs": [],
   "source": [
    "a, b = 14, 7 # Nominator and denominator\n",
    "sa, sb = 3, 2 # SD of nominator and denominator\n",
    "r = 0 # Correlation coefficient (a,b)\n",
    "alpha = 0.05 # alpha\n",
    "n = 12 # Total number of observations na + nb"
   ]
  },
  {
   "cell_type": "code",
   "execution_count": 3,
   "metadata": {
    "collapsed": true
   },
   "outputs": [],
   "source": [
    "flr = Fieller(a, b, sa, sb, r, alpha, n)"
   ]
  },
  {
   "cell_type": "code",
   "execution_count": 4,
   "metadata": {},
   "outputs": [
    {
     "name": "stdout",
     "output_type": "stream",
     "text": [
      "\n",
      "Result: \n",
      " Ratio (=a/b) = 2.000000\n",
      " g = 0.268164; \n",
      " degree of freedom  = 10; \n",
      " t(df, alpha) = 1.812461\n",
      "\n",
      " Confidence limits: lower 1.051413, upper 4.414296\n",
      " i.e deviations: lower -0.948587, upper 2.414296\n",
      " Approximate SD of ratio = 0.714286\n",
      " Approximate CV of ratio (%) = 35.714286\n",
      " Approximate limits: lower 0.705385, upper 0.705385\n"
     ]
    }
   ],
   "source": [
    "print(flr)"
   ]
  },
  {
   "cell_type": "markdown",
   "metadata": {
    "collapsed": true
   },
   "source": [
    "##### Some explorations below"
   ]
  },
  {
   "cell_type": "markdown",
   "metadata": {},
   "source": [
    "Following are results from GraphPad calculator:   \n",
    "https://www.graphpad.com/quickcalcs/errorProp2/"
   ]
  },
  {
   "cell_type": "markdown",
   "metadata": {},
   "source": [
    " CI of a sum, difference, quotient or product\n",
    "Mean of Variable A divided by Mean of Variable B = 2.00\n",
    "\n",
    "|         |                    |\n",
    "|---------|--------------------|\n",
    "| 90% CI: |   1.54 \tto \t2.64   |\n",
    "| 95% CI: |   1.46 \tto \t2.83   |\n",
    "| 99% CI: |\t  1.27 \tto \t3.36   |\n",
    "\n",
    "These results assume that both variables follow a Gaussian distribution\n",
    "and that the measurements of Variable A are not paired or matched to\n",
    "measurements of Variable B.\n",
    "\n",
    "Results computed by the method of EC Fieller, Suppl to\n",
    "J.R.Statist.Soc, 7,1-64 summarized here .\n",
    "\n",
    "|     |  Variable A  |  Variable B   |\n",
    "|-----|--------------|---------------|\n",
    "|Mean |\t  14.00      |    7.00       |\n",
    "|SD   |   3.00 \t     |    2.00       |\n",
    "|SEM  |\t  1.22 \t     |    0.82       |\n",
    "|N \t  |    6 \t     |     6         |"
   ]
  },
  {
   "cell_type": "markdown",
   "metadata": {},
   "source": [
    "Wikipedia:   https://en.wikipedia.org/wiki/Fieller%27s_theorem"
   ]
  },
  {
   "cell_type": "code",
   "execution_count": null,
   "metadata": {},
   "outputs": [],
   "source": []
  }
 ],
 "metadata": {
  "kernelspec": {
   "display_name": "Python 3",
   "language": "python",
   "name": "python3"
  },
  "language_info": {
   "codemirror_mode": {
    "name": "ipython",
    "version": 3
   },
   "file_extension": ".py",
   "mimetype": "text/x-python",
   "name": "python",
   "nbconvert_exporter": "python",
   "pygments_lexer": "ipython3",
   "version": "3.6.5"
  }
 },
 "nbformat": 4,
 "nbformat_minor": 2
}
