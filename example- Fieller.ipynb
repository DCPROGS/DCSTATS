{
 "cells": [
  {
   "cell_type": "code",
   "execution_count": 1,
   "metadata": {},
   "outputs": [],
   "source": [
    "%matplotlib inline\n",
    "import matplotlib\n",
    "import matplotlib.pyplot as plt"
   ]
  },
  {
   "cell_type": "code",
   "execution_count": 2,
   "metadata": {},
   "outputs": [],
   "source": [
    "import numpy as np"
   ]
  },
  {
   "cell_type": "markdown",
   "metadata": {},
   "source": [
    "FIELLER: calculates confidence limits for a ratio according Fieller's theorem. Output includes the approximate SD of the ratio r = a / b, given the SD of a (the numerator) and of b (the denominator) and the correlation coefficient between a & b (zero if they are independent). \n",
    "Fieller requires the t-statistic which can be provided from a table or calculated from alpha and the degrees of freedom. Alpha-level deviation is for two tailed distribution (e.g. 0.05 leaves 90% area)."
   ]
  },
  {
   "cell_type": "code",
   "execution_count": 3,
   "metadata": {
    "scrolled": true
   },
   "outputs": [],
   "source": [
    "from dcstats.fieller import Fieller"
   ]
  },
  {
   "cell_type": "code",
   "execution_count": 4,
   "metadata": {},
   "outputs": [],
   "source": [
    "a, b = 14, 7 # Nominator and denominator\n",
    "sa, sb = 3, 2 # SD of nominator and denominator\n",
    "r = 0 # Correlation coefficient (a,b)\n",
    "alpha = 0.05 # alpha\n",
    "n = 12 # Total number of observations na + nb"
   ]
  },
  {
   "cell_type": "code",
   "execution_count": 5,
   "metadata": {},
   "outputs": [],
   "source": [
    "flr = Fieller(a, b, sa, sb, r, alpha, n)"
   ]
  },
  {
   "cell_type": "code",
   "execution_count": 6,
   "metadata": {},
   "outputs": [
    {
     "name": "stdout",
     "output_type": "stream",
     "text": [
      "\n",
      " Fieller calculation result: \n",
      " Ratio (=a/b) = 2.000000\n",
      " g = 0.268164;\n",
      " alpha = 0.05;\n",
      " degree of freedom  = 10;\n",
      " t(df, alpha) = 1.812461\n",
      "\n",
      " Confidence limits: lower 1.051413, upper 4.414296\n",
      " i.e deviations: lower -0.948587, upper 2.414296\n",
      " Approximate SD of ratio = 0.714286\n",
      " Approximate CV of ratio (%) = 35.714286\n",
      " Approximate limits: lower 0.705385, upper 0.705385\n"
     ]
    }
   ],
   "source": [
    "print(flr)"
   ]
  },
  {
   "cell_type": "markdown",
   "metadata": {
    "collapsed": true
   },
   "source": [
    "##### Some explorations below"
   ]
  },
  {
   "cell_type": "markdown",
   "metadata": {},
   "source": [
    "Following are results from GraphPad calculator:   \n",
    "https://www.graphpad.com/quickcalcs/errorProp2/"
   ]
  },
  {
   "cell_type": "markdown",
   "metadata": {},
   "source": [
    " CI of a sum, difference, quotient or product\n",
    "Mean of Variable A divided by Mean of Variable B = 2.00\n",
    "\n",
    "|         |                    |\n",
    "|---------|--------------------|\n",
    "| 90% CI: |   1.54 \tto \t2.64   |\n",
    "| 95% CI: |   1.46 \tto \t2.83   |\n",
    "| 99% CI: |\t  1.27 \tto \t3.36   |\n",
    "\n",
    "These results assume that both variables follow a Gaussian distribution\n",
    "and that the measurements of Variable A are not paired or matched to\n",
    "measurements of Variable B.\n",
    "\n",
    "Results computed by the method of EC Fieller, Suppl to\n",
    "J.R.Statist.Soc, 7,1-64 summarized here .\n",
    "\n",
    "|     |  Variable A  |  Variable B   |\n",
    "|-----|--------------|---------------|\n",
    "|Mean |\t  14.00      |    7.00       |\n",
    "|SD   |   3.00 \t     |    2.00       |\n",
    "|SEM  |\t  1.22 \t     |    0.82       |\n",
    "|N \t  |    6 \t     |     6         |"
   ]
  },
  {
   "cell_type": "markdown",
   "metadata": {},
   "source": [
    "Wikipedia:   https://en.wikipedia.org/wiki/Fieller%27s_theorem"
   ]
  },
  {
   "cell_type": "code",
   "execution_count": 7,
   "metadata": {},
   "outputs": [
    {
     "data": {
      "text/plain": [
       "array([13.14091005, 11.6772464 , 15.1103116 , 14.64138597, 11.94855707,\n",
       "       10.25691651])"
      ]
     },
     "execution_count": 7,
     "metadata": {},
     "output_type": "execute_result"
    }
   ],
   "source": [
    "T1 = np.random.normal(loc=14.0, scale=3.0, size=6)\n",
    "T1"
   ]
  },
  {
   "cell_type": "code",
   "execution_count": 8,
   "metadata": {},
   "outputs": [
    {
     "data": {
      "text/plain": [
       "array([10.88919135,  5.67640091,  8.57467997,  8.74336928,  7.94344923,\n",
       "        4.23068628])"
      ]
     },
     "execution_count": 8,
     "metadata": {},
     "output_type": "execute_result"
    }
   ],
   "source": [
    "T2 = np.random.normal(loc=7.0, scale=2.0, size=6)\n",
    "T2"
   ]
  },
  {
   "cell_type": "code",
   "execution_count": 9,
   "metadata": {},
   "outputs": [
    {
     "data": {
      "text/plain": [
       "1.6669351538403139"
      ]
     },
     "execution_count": 9,
     "metadata": {},
     "output_type": "execute_result"
    }
   ],
   "source": [
    "np.mean(T1) / np.mean(T2)"
   ]
  },
  {
   "cell_type": "code",
   "execution_count": 10,
   "metadata": {},
   "outputs": [],
   "source": [
    "def bootstrap_ratio(S1, S2, runs=5000):\n",
    "    ratios = np.zeros(runs)\n",
    "    #mean = np.mean(S)\n",
    "    for i in range(runs):\n",
    "        a = np.mean(np.random.choice(S1, size=len(S1), replace=True))\n",
    "        b = np.mean(np.random.choice(S2, size=len(S2), replace=True))\n",
    "        ratios[i] = a / b\n",
    "    ratios.sort()\n",
    "    return ratios"
   ]
  },
  {
   "cell_type": "code",
   "execution_count": 11,
   "metadata": {},
   "outputs": [],
   "source": [
    "repeats = 500000\n",
    "booted = bootstrap_ratio(T1, T2, repeats)"
   ]
  },
  {
   "cell_type": "code",
   "execution_count": 12,
   "metadata": {},
   "outputs": [
    {
     "name": "stdout",
     "output_type": "stream",
     "text": [
      "ratio= 1.667; bootstrapped mean= 1.690; bias= -0.023\n",
      "bootstrapped SDM= 0.225\n"
     ]
    }
   ],
   "source": [
    "ratio_of_means = np.mean(T1) / np.mean(T2)\n",
    "print('ratio= {0:.3f}; bootstrapped mean= {1:.3f}; bias= {2:.3f}'.\n",
    "     format(ratio_of_means, np.mean(booted), ratio_of_means-np.mean(booted)))\n",
    "print('bootstrapped SDM= {0:.3f}'.format(np.std(booted, ddof=1)))"
   ]
  },
  {
   "cell_type": "code",
   "execution_count": 13,
   "metadata": {},
   "outputs": [
    {
     "name": "stdout",
     "output_type": "stream",
     "text": [
      "95% confidence limits (bootstrapping): lower= 1.325; upper= 2.203\n"
     ]
    }
   ],
   "source": [
    "lower95CI = booted[int(0.025 * repeats)]\n",
    "upper95CI = booted[int(0.975 * repeats)]\n",
    "print('95% confidence limits (bootstrapping): lower= {0:.3f}; upper= {1:.3f}'\n",
    "      .format(lower95CI, upper95CI))"
   ]
  },
  {
   "cell_type": "code",
   "execution_count": 14,
   "metadata": {},
   "outputs": [
    {
     "name": "stdout",
     "output_type": "stream",
     "text": [
      "Black solid line: original sample mean\n",
      "Black dashed line: bootstrap mean\n",
      "Red dashed lines: lower and upper 95% confidence limits\n"
     ]
    },
    {
     "data": {
      "image/png": "[encoded data removed]",
      "text/plain": [
       "<Figure size 360x216 with 1 Axes>"
      ]
     },
     "metadata": {
      "needs_background": "light"
     },
     "output_type": "display_data"
    }
   ],
   "source": [
    "fig, ax  = plt.subplots(1,1, figsize=(5,3))\n",
    "ax.hist(booted, 20)\n",
    "ax.axvline(x=ratio_of_means, color='k')\n",
    "ax.axvline(x=np.mean(booted), color='k', linestyle=\"dashed\")\n",
    "ax.axvline(x=lower95CI, color='r', linestyle=\"dashed\")\n",
    "ax.axvline(x=upper95CI, color='r', linestyle=\"dashed\")\n",
    "ax.set_ylabel(\"Frequency\")\n",
    "ax.set_xlabel('Means')\n",
    "print('Black solid line: original sample mean')\n",
    "print('Black dashed line: bootstrap mean')\n",
    "print('Red dashed lines: lower and upper 95% confidence limits')"
   ]
  }
 ],
 "metadata": {
  "kernelspec": {
   "display_name": "Python 3",
   "language": "python",
   "name": "python3"
  },
  "language_info": {
   "codemirror_mode": {
    "name": "ipython",
    "version": 3
   },
   "file_extension": ".py",
   "mimetype": "text/x-python",
   "name": "python",
   "nbconvert_exporter": "python",
   "pygments_lexer": "ipython3",
   "version": "3.6.6"
  }
 },
 "nbformat": 4,
 "nbformat_minor": 2
}
