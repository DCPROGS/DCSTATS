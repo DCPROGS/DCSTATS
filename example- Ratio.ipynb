{
 "cells": [
  {
   "cell_type": "code",
   "execution_count": 1,
   "metadata": {},
   "outputs": [],
   "source": [
    "%matplotlib inline"
   ]
  },
  {
   "cell_type": "code",
   "execution_count": 2,
   "metadata": {},
   "outputs": [],
   "source": [
    "import numpy as np"
   ]
  },
  {
   "cell_type": "markdown",
   "metadata": {},
   "source": [
    "### Exploring ratio.py module"
   ]
  },
  {
   "cell_type": "code",
   "execution_count": 3,
   "metadata": {},
   "outputs": [],
   "source": [
    "# Generate random samples\n",
    "np.random.seed(1984)\n",
    "T1 = np.random.normal(loc=14.0, scale=3.0, size=6)\n",
    "T2 = np.random.normal(loc=7.0, scale=2.0, size=6)"
   ]
  },
  {
   "cell_type": "code",
   "execution_count": 4,
   "metadata": {},
   "outputs": [],
   "source": [
    "from dcstats.ratio import Ratio"
   ]
  },
  {
   "cell_type": "code",
   "execution_count": 5,
   "metadata": {},
   "outputs": [
    {
     "name": "stdout",
     "output_type": "stream",
     "text": [
      "\n",
      "Ratio = 1.87 +/- 0.17 (approximate SDM)\n",
      "\tapproximate 95% confidence limits:\n",
      "\tlower= 1.5; upper= 2.24\n",
      "\tFieller 95% confidence limits:\n",
      "\tlower= 1.44; upper= 2.49\n",
      "\n",
      "Bootsrapping statistics (repeats = 50000):\n",
      "Ratio= 1.87 +/- 0.21 (bootstrapped SDM); bias= -0.014\n",
      "\t95% confidence limits (bootstrapped):\n",
      "\tlower= 1.53; upper= 2.35\n"
     ]
    }
   ],
   "source": [
    "rt = Ratio(T1, T2)\n",
    "rt.run_bootstrap(50000)\n",
    "print(rt)"
   ]
  },
  {
   "cell_type": "code",
   "execution_count": 6,
   "metadata": {},
   "outputs": [
    {
     "data": {
      "image/png": "[encoded data removed]",
      "text/plain": [
       "<Figure size 288x288 with 1 Axes>"
      ]
     },
     "metadata": {
      "needs_background": "light"
     },
     "output_type": "display_data"
    }
   ],
   "source": [
    "fig = rt.plot_bootstrap()"
   ]
  },
  {
   "cell_type": "markdown",
   "metadata": {
    "collapsed": true
   },
   "source": [
    "#### Compare to GraphPad calculator results"
   ]
  },
  {
   "cell_type": "code",
   "execution_count": 7,
   "metadata": {},
   "outputs": [
    {
     "name": "stdout",
     "output_type": "stream",
     "text": [
      "meanA = 13.8156018784828 ; meanB = 7.373761350516429\n",
      "sdA = 2.5318571014924607 ;sdB = 1.7214705715414245\n"
     ]
    }
   ],
   "source": [
    "print('meanA =', rt.meanA, '; meanB =', rt.meanB)\n",
    "print('sdA =', rt.sdA, ';sdB =', rt.sdB)"
   ]
  },
  {
   "cell_type": "markdown",
   "metadata": {},
   "source": [
    "Following are results from GraphPad calculator:   \n",
    "https://www.graphpad.com/quickcalcs/errorProp2/"
   ]
  },
  {
   "cell_type": "markdown",
   "metadata": {},
   "source": [
    " CI of a quotient\n",
    "\n",
    "Mean of Variable A divided by Mean of Variable B = 1.873616628169721 \n",
    "\n",
    "95% CI: \t1.436957351945638 \tto \t2.487248647961153 \n",
    "\n",
    "These results assume that both variables follow a Gaussian distribution\n",
    "and that the measurements of Variable A are not paired or matched to\n",
    "measurements of Variable B.\n",
    "\n",
    "Results computed by the method of EC Fieller, Suppl to\n",
    "J.R.Statist.Soc, 7,1-64"
   ]
  },
  {
   "cell_type": "markdown",
   "metadata": {},
   "source": [
    "Wikipedia:   https://en.wikipedia.org/wiki/Fieller%27s_theorem"
   ]
  },
  {
   "cell_type": "markdown",
   "metadata": {},
   "source": [
    "##### Old fieller.py module (supperseeded by ratio.py)"
   ]
  },
  {
   "cell_type": "markdown",
   "metadata": {},
   "source": [
    "FIELLER: calculates confidence limits for a ratio according Fieller's theorem. Output includes the approximate SD of the ratio r = a / b, given the SD of a (the numerator) and of b (the denominator) and the correlation coefficient between a & b (zero if they are independent). \n",
    "Fieller requires the t-statistic which is calculated from alpha and the degrees of freedom. Alpha is taken as for two-tailed t-distribution ution (e.g. 0.05 leaves 95% area: limits calculated at 2.5% and 97.5%)."
   ]
  },
  {
   "cell_type": "code",
   "execution_count": 8,
   "metadata": {
    "scrolled": true
   },
   "outputs": [],
   "source": [
    "from dcstats.fieller import Fieller"
   ]
  },
  {
   "cell_type": "code",
   "execution_count": 9,
   "metadata": {},
   "outputs": [],
   "source": [
    "a, b = 14, 7 # Nominator and denominator\n",
    "sa, sb = 3, 2 # SD of nominator and denominator\n",
    "r = 0 # Correlation coefficient (a,b)\n",
    "alpha = 0.05 # alpha\n",
    "n = 12 # Total number of observations na + nb"
   ]
  },
  {
   "cell_type": "code",
   "execution_count": 10,
   "metadata": {},
   "outputs": [
    {
     "name": "stdout",
     "output_type": "stream",
     "text": [
      "\n",
      " Fieller calculation result: \n",
      " Ratio (a/b) = 2.000000\n",
      " t(df=10, alpha=0.05) = 2.228138\n",
      "\n",
      " Confidence limits: lower 0.889734, upper 5.836045\n",
      " Approximate SD of ratio = 0.714286\n",
      " Approximate CV of ratio (%) = 35.714286\n",
      " Approximate limits: lower 0.408473, upper 3.591527\n"
     ]
    }
   ],
   "source": [
    "flr = Fieller(a, b, sa, sb, r, alpha, n)\n",
    "print(flr)"
   ]
  }
 ],
 "metadata": {
  "kernelspec": {
   "display_name": "Python 3",
   "language": "python",
   "name": "python3"
  },
  "language_info": {
   "codemirror_mode": {
    "name": "ipython",
    "version": 3
   },
   "file_extension": ".py",
   "mimetype": "text/x-python",
   "name": "python",
   "nbconvert_exporter": "python",
   "pygments_lexer": "ipython3",
   "version": "3.6.6"
  }
 },
 "nbformat": 4,
 "nbformat_minor": 2
}
