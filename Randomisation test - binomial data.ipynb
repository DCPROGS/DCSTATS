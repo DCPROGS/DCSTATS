{
 "cells": [
  {
   "cell_type": "markdown",
   "metadata": {},
   "source": [
    "RANTEST performs a randomisation test to compare two independent samples.  According to the null hypothesis of    no-difference, each outcome would have been the same regardless of which group the individual happened to be allocated to.  Therefore all N = n1 + n2 observations are pooled and, as in the actual experiment, divided at random into groups of size n1 and n2.  The fraction of randomisations that gives rise to a difference between the groups at least as large as that observed gives the P value.\n",
    "\n",
    "In the binomial case, in which the measurement is the fraction of 'successes' in each sample (say r1 out of n1, and r2 out of n2) a 'success' is given a score of 1, 'failure' scores 0.\n",
    "Randomisation test on binomial data could be done using as criterion: \n",
    "(1) number of successes in set 1 (r1) or \n",
    "(2) difference between the p=r/n values.\n",
    "Both criteria give the same one-tail P value. Use of r1 as criterion is the direct Monte Carlo equivalent of summing the the exact Fisher test probabilities for the observed 2x2 table with those for all tables that depart further from the null hypothesis in the observed direction. A 2-tail probablilty can be found by doubling the one-tail value, at least if the displayed distribution is symmetrical. Use of (p1-p2) as criterion gives both one and two-tail     probabilities directly by seeing how many random allocations of the observations to groups of size n1 and n2 produce and absolute value of (p1-p2) at least as big as that observed."
   ]
  },
  {
   "cell_type": "code",
   "execution_count": 1,
   "metadata": {},
   "outputs": [],
   "source": [
    "%matplotlib inline\n",
    "import matplotlib.pyplot as plt"
   ]
  },
  {
   "cell_type": "code",
   "execution_count": 2,
   "metadata": {},
   "outputs": [],
   "source": [
    "import sys\n",
    "import math\n",
    "import random\n",
    "import numpy as np"
   ]
  },
  {
   "cell_type": "code",
   "execution_count": 3,
   "metadata": {},
   "outputs": [],
   "source": [
    "#from dcstats.rantest import RantestBinomial\n",
    "from dcstats.basic_stats import TTestBinomial"
   ]
  },
  {
   "cell_type": "code",
   "execution_count": 4,
   "metadata": {},
   "outputs": [],
   "source": [
    "class RantestBinomial():\n",
    "    def __init__(self, ir1, if1, ir2, if2):\n",
    "        \"\"\" \n",
    "        Parameters\n",
    "        ----------\n",
    "        ir1 : number of successes in first trial, int\n",
    "        if1 : number of failures in first trial, int\n",
    "        ir2 : number of successes in second trial, int\n",
    "        if2 : number of failures in second trial, int       \n",
    "        \"\"\"\n",
    "        self.ir1, self.if1 = ir1, if1\n",
    "        self.ir2, self.if2 = ir2, if2\n",
    "        self.ir = ir1 + ir2\n",
    "        self.n1 = ir1 + if1 # tot number of tests in first trial \n",
    "        self.n2 = ir2 + if2 # tot number of tests in second trial\n",
    "        self.ntot = self.n1 + self.n2\n",
    "        self.dobs = ir1 / float(self.n1) - ir2 / float(self.n2)\n",
    "        random.seed(1984)\n",
    "        \n",
    "    def run_rantest(self, nran):\n",
    "        self.nran = nran\n",
    "        self.randiff = np.zeros(nran) # difference between means\n",
    "        allobs = [1]*self.ir + [0]*(self.ntot - self.ir)\n",
    "        for k in range(0, self.nran):\n",
    "            random.shuffle(allobs)\n",
    "            is2 = sum(allobs[self.n1:])\n",
    "            self.randiff[k] = (self.ir - is2) / float(self.n1) - is2 / float(self.n2)\n",
    "        self.ng1 = self.randiff[self.randiff >= self.dobs].size\n",
    "        self.ne1 = self.randiff[self.randiff == self.dobs].size\n",
    "        self.nl1 = self.randiff[self.randiff <= self.dobs].size\n",
    "        \n",
    "    def __repr__(self):        \n",
    "        return ('\\n\\n Rantest:  {0:d} randomisations:'.format(self.nran) +\n",
    "            '\\n P values for difference between sets are:' +\n",
    "            '\\n  r1 greater than or equal to observed: P = {0:.6f}'.format(self.ng1 / float(self.nran)) +\n",
    "            '\\n  r1 less than or equal to observed: P = {0:.6f}'.format(self.nl1 / float(self.nran)) +\n",
    "            '\\n  r1 equal to observed: number = {0:d} (P = {1:.6f})'.format(self.ne1, self.ne1 / float(self.nran)))\n"
   ]
  },
  {
   "cell_type": "code",
   "execution_count": 5,
   "metadata": {},
   "outputs": [],
   "source": [
    "ir1, if1 = 3, 4 # Number of successes and failures in trial 1\n",
    "ir2, if2 = 4, 5 # Number of successes and failures in trial 2"
   ]
  },
  {
   "cell_type": "markdown",
   "metadata": {},
   "source": [
    "Calculate basic statistics"
   ]
  },
  {
   "cell_type": "code",
   "execution_count": 6,
   "metadata": {},
   "outputs": [
    {
     "name": "stdout",
     "output_type": "stream",
     "text": [
      "\n",
      " Set 1: 3 successes out of 7;\n",
      " p1 = 0.428571;   SD(p1) = 0.187044\n",
      " Set 2: 4 successes out of 9;\n",
      " p2 = 0.444444;   SD(p2) = 0.165635\n",
      " Observed difference between sets, p1-p2 = -0.015873\n",
      "\n",
      " Observed 2x2 table:\n",
      "  Set 1:    3      4      7\n",
      "  Set 2:    4      5      9\n",
      "  Total:    7      9      16\n",
      "\n",
      " Two-sample unpaired test using Gaussian approximation to binomial:\n",
      " standard normal deviate = 0.063492; two tail P = 0.949375.\n"
     ]
    }
   ],
   "source": [
    "ttb = TTestBinomial(ir1, if1, ir2, if2)\n",
    "print(ttb)"
   ]
  },
  {
   "cell_type": "markdown",
   "metadata": {},
   "source": [
    "Run randomisation tests"
   ]
  },
  {
   "cell_type": "code",
   "execution_count": 7,
   "metadata": {},
   "outputs": [
    {
     "name": "stdout",
     "output_type": "stream",
     "text": [
      "\n",
      "\n",
      " Rantest:  50000 randomisations:\n",
      " P values for difference between sets are:\n",
      "  r1 greater than or equal to observed: P = 0.713320\n",
      "  r1 less than or equal to observed: P = 0.672160\n",
      "  r1 equal to observed: number = 19274 (P = 0.385480)\n"
     ]
    }
   ],
   "source": [
    "nran = 50000\n",
    "rnt = RantestBinomial(ir1, if1, ir2, if2)\n",
    "rnt.run_rantest(nran)\n",
    "print(rnt)"
   ]
  },
  {
   "cell_type": "code",
   "execution_count": null,
   "metadata": {},
   "outputs": [],
   "source": []
  }
 ],
 "metadata": {
  "kernelspec": {
   "display_name": "Python 3",
   "language": "python",
   "name": "python3"
  },
  "language_info": {
   "codemirror_mode": {
    "name": "ipython",
    "version": 3
   },
   "file_extension": ".py",
   "mimetype": "text/x-python",
   "name": "python",
   "nbconvert_exporter": "python",
   "pygments_lexer": "ipython3",
   "version": "3.6.6"
  }
 },
 "nbformat": 4,
 "nbformat_minor": 2
}
