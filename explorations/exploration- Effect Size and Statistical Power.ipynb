{
 "cells": [
  {
   "cell_type": "code",
   "execution_count": 1,
   "metadata": {},
   "outputs": [],
   "source": [
    "%matplotlib inline\n",
    "from pylab import*\n",
    "import math\n",
    "import numpy as np"
   ]
  },
  {
   "cell_type": "code",
   "execution_count": 2,
   "metadata": {},
   "outputs": [],
   "source": [
    "def my_pdf(x, mu, sd):\n",
    "    \"\"\"Normal distribution density \"\"\"\n",
    "    return 1 / (sd * math.sqrt(2 * math.pi)) * math.exp( - (x - mu)**2 / (2 * sd**2)) \n",
    "\n",
    "def my_cdf(x, mu, sd):\n",
    "    \"\"\"Cumulative density function for normal distribution \"\"\"\n",
    "    return (1.0 + math.erf((x - mu) / (sd * math.sqrt(2.0)))) / 2.0\n",
    "\n",
    "def phi(x):\n",
    "    \"\"\"Cumulative density function for the standard normal distribution \"\"\"\n",
    "    return (1.0 + math.erf(x / math.sqrt(2.0))) / 2.0\n",
    "\n",
    "def beta_two_tail(m1, s1, n1, m2, s2, n2):\n",
    "    \"\"\" beta-error two-tailed for alpha = 0.05\"\"\"\n",
    "    z025 = 1.96\n",
    "    z = (m1 - m2) / math.sqrt(s1**2  / n1 + s2**2 / n2)\n",
    "    return phi(z025 - z) - phi(-z025 - z)\n",
    "\n",
    "def power(m1, s1, n1, m2, s2, n2):\n",
    "    \"\"\"Statistical power (1 - beta error)\"\"\"\n",
    "    return 1 - beta_two_tail(m1, s1, n1, m2, s2, n2)\n",
    "\n",
    "def sd_pooled(m1, s1, n1, m2, s2, n2):\n",
    "    \"\"\" Pooled standard deviation\"\"\"\n",
    "    return math.sqrt(((n2 - 1) * s2 ** 2 + (n1 - 1) * s1 ** 2) / (n1 + n2 - 2))\n",
    "\n",
    "def hedges_biased(m1, s1, n1, m2, s2, n2):\n",
    "    \"\"\"Biased effect size\"\"\"\n",
    "    return (m2 - m1) / sd_pooled(m1, s1, n1, m2, s2, n2)\n",
    "\n",
    "def hedges_unbiased(m1, s1, n1, m2, s2, n2):\n",
    "    \"\"\"\"\"\"\n",
    "    correction = 1.0 - 3.0 / (4 * (n1 + n2 - 2) - 1)\n",
    "    return correction * hedges_biased(m1, s1, n1, m2, s2, n2)\n"
   ]
  },
  {
   "cell_type": "code",
   "execution_count": 3,
   "metadata": {},
   "outputs": [],
   "source": [
    "mu1, sd1 = 0.0, 1.0 # mean and SD of first sample\n",
    "mu2, sd2 = 1.0, 1.0 # mean and SD of second sample\n",
    "ns1, ns2 = 16, 16    #number of obs per sample"
   ]
  },
  {
   "cell_type": "code",
   "execution_count": 4,
   "metadata": {},
   "outputs": [],
   "source": [
    "xmin = mu1 - 4 * sd1\n",
    "xmax = mu1 + 4 * sd1\n",
    "increase = (xmax - xmin) / 100\n",
    "x = np.arange(xmin, xmax, increase)\n",
    "pdf1 = [my_pdf(x1, mu1, sd1) for x1 in x]\n",
    "cdf1 = [my_cdf(x1, mu1, sd1) for x1 in x]\n",
    "pdf2 = [my_pdf(x1, mu2, sd2) for x1 in x]\n",
    "cdf2 = [my_cdf(x1, mu2, sd2) for x1 in x]"
   ]
  },
  {
   "cell_type": "code",
   "execution_count": 5,
   "metadata": {},
   "outputs": [
    {
     "data": {
      "image/png": "[encoded data removed]",
      "text/plain": [
       "<Figure size 432x288 with 1 Axes>"
      ]
     },
     "metadata": {},
     "output_type": "display_data"
    }
   ],
   "source": [
    "plot(x, pdf1, 'b-')\n",
    "plot(x, cdf1, 'b--')\n",
    "plot(x, pdf2, 'r-')\n",
    "plot(x, cdf2, 'r--')\n",
    "xlabel('distributions of observations')\n",
    "ylabel('probability density / cumulative density');"
   ]
  },
  {
   "cell_type": "code",
   "execution_count": 6,
   "metadata": {},
   "outputs": [
    {
     "name": "stdout",
     "output_type": "stream",
     "text": [
      "effect size (Hedges biased) = 1.0\n"
     ]
    }
   ],
   "source": [
    "print('effect size (Hedges biased) =', hedges_biased(mu1, sd1, ns1, mu2, sd2, ns2))"
   ]
  },
  {
   "cell_type": "code",
   "execution_count": 7,
   "metadata": {},
   "outputs": [
    {
     "name": "stdout",
     "output_type": "stream",
     "text": [
      "effect size (Hedges un-biased) = 0.9747899159663865\n"
     ]
    }
   ],
   "source": [
    "print('effect size (Hedges un-biased) =', hedges_unbiased(mu1, sd1, ns1, mu2, sd2, ns2))"
   ]
  },
  {
   "cell_type": "code",
   "execution_count": 8,
   "metadata": {},
   "outputs": [
    {
     "name": "stdout",
     "output_type": "stream",
     "text": [
      "statistical power = 0.8074205649484903\n"
     ]
    }
   ],
   "source": [
    "print('statistical power =', power(mu1, sd1, ns1, mu2, sd2, ns2))"
   ]
  },
  {
   "cell_type": "code",
   "execution_count": null,
   "metadata": {},
   "outputs": [],
   "source": []
  }
 ],
 "metadata": {
  "kernelspec": {
   "display_name": "Python 3",
   "language": "python",
   "name": "python3"
  },
  "language_info": {
   "codemirror_mode": {
    "name": "ipython",
    "version": 3
   },
   "file_extension": ".py",
   "mimetype": "text/x-python",
   "name": "python",
   "nbconvert_exporter": "python",
   "pygments_lexer": "ipython3",
   "version": "3.6.5"
  }
 },
 "nbformat": 4,
 "nbformat_minor": 2
}
