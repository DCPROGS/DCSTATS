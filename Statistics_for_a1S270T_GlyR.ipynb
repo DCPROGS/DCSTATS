{
 "cells": [
  {
   "cell_type": "code",
   "execution_count": 1,
   "metadata": {},
   "outputs": [],
   "source": [
    "%matplotlib inline\n",
    "import matplotlib\n",
    "import matplotlib.pyplot as plt"
   ]
  },
  {
   "cell_type": "code",
   "execution_count": 2,
   "metadata": {},
   "outputs": [],
   "source": [
    "import math\n",
    "import random\n",
    "\n",
    "import pandas as pd\n",
    "import numpy as np\n",
    "import scipy.stats as stats\n",
    "from statsmodels.stats.multicomp import MultiComparison"
   ]
  },
  {
   "cell_type": "code",
   "execution_count": 3,
   "metadata": {},
   "outputs": [],
   "source": [
    "from dcstats.rantest import RantestContinuous\n",
    "from dcstats.basic_stats import TTestContinuous\n",
    "from dcstats.Hedges import Hedges_d"
   ]
  },
  {
   "cell_type": "code",
   "execution_count": 53,
   "metadata": {},
   "outputs": [],
   "source": [
    "class RantestContinuous():\n",
    "    def __init__(self, X, Y, are_paired=False):\n",
    "        \"\"\" \n",
    "        Parameters\n",
    "        ----------\n",
    "        X : observations in first trial, list of floats\n",
    "        Y : observations in second trial, list of floats\n",
    "        are_paired : are observations paired, boolean\n",
    "        \"\"\"   \n",
    "        self.X, self.Y = X, Y\n",
    "        self.nx, self.ny = len(X), len(Y)\n",
    "        self.are_paired = are_paired\n",
    "        random.seed(1984)\n",
    "        np.random.seed(1984)\n",
    "            \n",
    "    def run_rantest(self, nran):\n",
    "        self.nran = nran\n",
    "        self.randiff = np.zeros(nran)\n",
    "        \n",
    "        if self.are_paired:\n",
    "            self.D = np.array(self.X) - np.array(self.Y)\n",
    "            self.dbar = np.mean(self.D)\n",
    "            for i in range(nran):\n",
    "                ones = np.ones(self.nx)\n",
    "                ones[np.random.random(self.nx) < 0.5] *= -1             \n",
    "                self.randiff[i] = np.sum(self.D * ones) / float(self.nx)    # mean difference\n",
    "\n",
    "        else:    # if not paired\n",
    "            self.dbar = np.mean(self.X) - np.mean(self.Y)\n",
    "            allobs = np.concatenate([self.X, self.Y])\n",
    "            for i in range(0, nran):\n",
    "                random.shuffle(allobs)\n",
    "                sy = sum(allobs[self.nx : ])\n",
    "                self.randiff[i] = (sum(allobs) - sy) / float(self.nx) - sy / float(self.ny)\n",
    "                \n",
    "        self.na1 = self.randiff[np.fabs(self.randiff) >= math.fabs(self.dbar)].size        \n",
    "        self.ne2 = self.randiff[np.fabs(self.randiff) == math.fabs(self.dbar)].size        \n",
    "        self.ng1 = self.randiff[self.randiff >= self.dbar].size\n",
    "        self.ne1 = self.randiff[self.randiff == self.dbar].size\n",
    "        self.nl1 = self.randiff[self.randiff <= self.dbar].size\n",
    "        \n",
    "    def __repr__(self):\n",
    "        return ('\\n\\n   Rantest:  {0:d} randomisations'.format(self.nran) +\n",
    "        '\\n P values for difference between means ' +\n",
    "        '\\n  greater than or equal to observed: P = \\t {0:.6f}'.format(self.ng1 / float(self.nran)) +\n",
    "        '\\n  less than or equal to observed: P = \\t {0:.6f}'.format(self.nl1 / float(self.nran)) +\n",
    "        '\\n  greater than or equal in absolute value to observed: P = \\t {0:.6f}'.format(self.na1 / float(self.nran)) +\n",
    "        '\\n  Number equal to observed = {0:d} (P= {1:.6f})'.format(self.ne1, self.ne1 / float(self.nran)) +\n",
    "        '\\n  Number equal in absolute value to observed = {0:d} (P= {1:.6f})'.format(self.ne2, self.ne2 / float(self.nran)))\n"
   ]
  },
  {
   "cell_type": "code",
   "execution_count": 5,
   "metadata": {},
   "outputs": [],
   "source": [
    "def stack_for_tukey(df):\n",
    "    \"\"\" Stack the data (and rename columns)\"\"\"\n",
    "    stacked_data = df.stack().reset_index()\n",
    "    #print(stacked_data.head())\n",
    "    stacked_data = stacked_data.rename(columns={'level_0': 'id',\n",
    "                                                'level_1': 'condition',\n",
    "                                                0:'result'})\n",
    "    #print (stacked_data.head())\n",
    "    return stacked_data\n",
    "\n",
    "def tukey_summary_and_plot(stack, k):\n",
    "    # Set up the data for comparison (creates a specialised object)\n",
    "    multi_comp = MultiComparison(stack['result'],\n",
    "                                 stack['condition'])\n",
    "    # Show all pair-wise comparisons:\n",
    "    print(multi_comp.tukeyhsd().summary())\n",
    "    if k > 2:\n",
    "        multi_comp.tukeyhsd().plot_simultaneous();    # Plot group confidence intervals"
   ]
  },
  {
   "cell_type": "code",
   "execution_count": 6,
   "metadata": {},
   "outputs": [
    {
     "data": {
      "text/plain": [
       "['EC50',\n",
       " 'maxPopen',\n",
       " 'sc_amplitudes',\n",
       " 'Irel',\n",
       " 'jump_peak',\n",
       " 'jump_rise',\n",
       " 'jump_deact']"
      ]
     },
     "execution_count": 6,
     "metadata": {},
     "output_type": "execute_result"
    }
   ],
   "source": [
    "xl = pd.ExcelFile(\"analysis/for_stats_S270T.xlsx\")\n",
    "xl.sheet_names"
   ]
  },
  {
   "cell_type": "markdown",
   "metadata": {},
   "source": [
    "### EC50"
   ]
  },
  {
   "cell_type": "code",
   "execution_count": 7,
   "metadata": {},
   "outputs": [
    {
     "data": {
      "text/html": [
       "<div>\n",
       "<style scoped>\n",
       "    .dataframe tbody tr th:only-of-type {\n",
       "        vertical-align: middle;\n",
       "    }\n",
       "\n",
       "    .dataframe tbody tr th {\n",
       "        vertical-align: top;\n",
       "    }\n",
       "\n",
       "    .dataframe thead th {\n",
       "        text-align: right;\n",
       "    }\n",
       "</style>\n",
       "<table border=\"1\" class=\"dataframe\">\n",
       "  <thead>\n",
       "    <tr style=\"text-align: right;\">\n",
       "      <th></th>\n",
       "      <th>a1WTg</th>\n",
       "      <th>a1bWTg</th>\n",
       "      <th>a1S270Tg</th>\n",
       "      <th>a1bS270Tg</th>\n",
       "      <th>a1WTs</th>\n",
       "      <th>a1S270Ts</th>\n",
       "    </tr>\n",
       "  </thead>\n",
       "  <tbody>\n",
       "    <tr>\n",
       "      <th>0</th>\n",
       "      <td>0.343219</td>\n",
       "      <td>0.234146</td>\n",
       "      <td>1.410882</td>\n",
       "      <td>0.805278</td>\n",
       "      <td>21.02460</td>\n",
       "      <td>24.771213</td>\n",
       "    </tr>\n",
       "    <tr>\n",
       "      <th>1</th>\n",
       "      <td>0.253451</td>\n",
       "      <td>0.204491</td>\n",
       "      <td>0.770479</td>\n",
       "      <td>0.915122</td>\n",
       "      <td>22.41770</td>\n",
       "      <td>27.961486</td>\n",
       "    </tr>\n",
       "    <tr>\n",
       "      <th>2</th>\n",
       "      <td>0.207938</td>\n",
       "      <td>0.233946</td>\n",
       "      <td>0.782033</td>\n",
       "      <td>0.877297</td>\n",
       "      <td>9.87337</td>\n",
       "      <td>22.496041</td>\n",
       "    </tr>\n",
       "    <tr>\n",
       "      <th>3</th>\n",
       "      <td>0.233913</td>\n",
       "      <td>0.215334</td>\n",
       "      <td>1.064370</td>\n",
       "      <td>0.905444</td>\n",
       "      <td>6.56812</td>\n",
       "      <td>20.272358</td>\n",
       "    </tr>\n",
       "    <tr>\n",
       "      <th>4</th>\n",
       "      <td>0.241670</td>\n",
       "      <td>0.278040</td>\n",
       "      <td>1.365474</td>\n",
       "      <td>0.781964</td>\n",
       "      <td>13.21850</td>\n",
       "      <td>21.435463</td>\n",
       "    </tr>\n",
       "  </tbody>\n",
       "</table>\n",
       "</div>"
      ],
      "text/plain": [
       "      a1WTg    a1bWTg  a1S270Tg  a1bS270Tg     a1WTs   a1S270Ts\n",
       "0  0.343219  0.234146  1.410882   0.805278  21.02460  24.771213\n",
       "1  0.253451  0.204491  0.770479   0.915122  22.41770  27.961486\n",
       "2  0.207938  0.233946  0.782033   0.877297   9.87337  22.496041\n",
       "3  0.233913  0.215334  1.064370   0.905444   6.56812  20.272358\n",
       "4  0.241670  0.278040  1.365474   0.781964  13.21850  21.435463"
      ]
     },
     "execution_count": 7,
     "metadata": {},
     "output_type": "execute_result"
    }
   ],
   "source": [
    "ec50 = xl.parse(\"EC50\")\n",
    "ec50.head()"
   ]
  },
  {
   "cell_type": "code",
   "execution_count": 8,
   "metadata": {},
   "outputs": [
    {
     "data": {
      "text/html": [
       "<div>\n",
       "<style scoped>\n",
       "    .dataframe tbody tr th:only-of-type {\n",
       "        vertical-align: middle;\n",
       "    }\n",
       "\n",
       "    .dataframe tbody tr th {\n",
       "        vertical-align: top;\n",
       "    }\n",
       "\n",
       "    .dataframe thead th {\n",
       "        text-align: right;\n",
       "    }\n",
       "</style>\n",
       "<table border=\"1\" class=\"dataframe\">\n",
       "  <thead>\n",
       "    <tr style=\"text-align: right;\">\n",
       "      <th></th>\n",
       "      <th>a1WTg</th>\n",
       "      <th>a1bWTg</th>\n",
       "      <th>a1S270Tg</th>\n",
       "      <th>a1bS270Tg</th>\n",
       "      <th>a1WTs</th>\n",
       "      <th>a1S270Ts</th>\n",
       "    </tr>\n",
       "  </thead>\n",
       "  <tbody>\n",
       "    <tr>\n",
       "      <th>count</th>\n",
       "      <td>10.000000</td>\n",
       "      <td>5.000000</td>\n",
       "      <td>8.000000</td>\n",
       "      <td>8.000000</td>\n",
       "      <td>7.000000</td>\n",
       "      <td>6.000000</td>\n",
       "    </tr>\n",
       "    <tr>\n",
       "      <th>mean</th>\n",
       "      <td>0.235812</td>\n",
       "      <td>0.233192</td>\n",
       "      <td>1.084261</td>\n",
       "      <td>0.851993</td>\n",
       "      <td>14.236884</td>\n",
       "      <td>23.308177</td>\n",
       "    </tr>\n",
       "    <tr>\n",
       "      <th>std</th>\n",
       "      <td>0.060119</td>\n",
       "      <td>0.028087</td>\n",
       "      <td>0.257108</td>\n",
       "      <td>0.114950</td>\n",
       "      <td>5.844527</td>\n",
       "      <td>2.732513</td>\n",
       "    </tr>\n",
       "    <tr>\n",
       "      <th>min</th>\n",
       "      <td>0.164993</td>\n",
       "      <td>0.204491</td>\n",
       "      <td>0.770479</td>\n",
       "      <td>0.617295</td>\n",
       "      <td>6.568120</td>\n",
       "      <td>20.272358</td>\n",
       "    </tr>\n",
       "    <tr>\n",
       "      <th>25%</th>\n",
       "      <td>0.199629</td>\n",
       "      <td>0.215334</td>\n",
       "      <td>0.865373</td>\n",
       "      <td>0.799450</td>\n",
       "      <td>10.391085</td>\n",
       "      <td>21.700607</td>\n",
       "    </tr>\n",
       "    <tr>\n",
       "      <th>50%</th>\n",
       "      <td>0.228749</td>\n",
       "      <td>0.233946</td>\n",
       "      <td>1.071845</td>\n",
       "      <td>0.891370</td>\n",
       "      <td>13.218500</td>\n",
       "      <td>22.704271</td>\n",
       "    </tr>\n",
       "    <tr>\n",
       "      <th>75%</th>\n",
       "      <td>0.250505</td>\n",
       "      <td>0.234146</td>\n",
       "      <td>1.322652</td>\n",
       "      <td>0.920274</td>\n",
       "      <td>18.335850</td>\n",
       "      <td>24.306535</td>\n",
       "    </tr>\n",
       "    <tr>\n",
       "      <th>max</th>\n",
       "      <td>0.343219</td>\n",
       "      <td>0.278040</td>\n",
       "      <td>1.410882</td>\n",
       "      <td>0.977815</td>\n",
       "      <td>22.417700</td>\n",
       "      <td>27.961486</td>\n",
       "    </tr>\n",
       "  </tbody>\n",
       "</table>\n",
       "</div>"
      ],
      "text/plain": [
       "           a1WTg    a1bWTg  a1S270Tg  a1bS270Tg      a1WTs   a1S270Ts\n",
       "count  10.000000  5.000000  8.000000   8.000000   7.000000   6.000000\n",
       "mean    0.235812  0.233192  1.084261   0.851993  14.236884  23.308177\n",
       "std     0.060119  0.028087  0.257108   0.114950   5.844527   2.732513\n",
       "min     0.164993  0.204491  0.770479   0.617295   6.568120  20.272358\n",
       "25%     0.199629  0.215334  0.865373   0.799450  10.391085  21.700607\n",
       "50%     0.228749  0.233946  1.071845   0.891370  13.218500  22.704271\n",
       "75%     0.250505  0.234146  1.322652   0.920274  18.335850  24.306535\n",
       "max     0.343219  0.278040  1.410882   0.977815  22.417700  27.961486"
      ]
     },
     "execution_count": 8,
     "metadata": {},
     "output_type": "execute_result"
    }
   ],
   "source": [
    "ec50.describe()"
   ]
  },
  {
   "cell_type": "code",
   "execution_count": 9,
   "metadata": {},
   "outputs": [
    {
     "data": {
      "text/plain": [
       "Ttest_indResult(statistic=-9.13604108662284, pvalue=2.282558976237772e-05)"
      ]
     },
     "execution_count": 9,
     "metadata": {},
     "output_type": "execute_result"
    }
   ],
   "source": [
    "# scipy independent t-test\n",
    "stats.ttest_ind(ec50[\"a1WTg\"], ec50[\"a1S270Tg\"], equal_var=False, nan_policy='omit')"
   ]
  },
  {
   "cell_type": "code",
   "execution_count": 10,
   "metadata": {},
   "outputs": [
    {
     "data": {
      "text/plain": [
       "n \t\t 10      \t  8\n",
       "Mean \t\t 0.235812    \t  1.084261\n",
       "SD \t\t 0.060119     \t  0.257108\n",
       "SDM \t\t 0.019011     \t  0.090902\n",
       "95% confidence intervals:\n",
       "lower \t\t 0.198550    \t  0.906094\n",
       "upper \t\t 0.273075    \t  1.262428\n",
       "\n",
       " Two-sample unpaired Students t-test:\n",
       " t = \t -9.136041\n",
       " two tail P = \t 9.510E-08"
      ]
     },
     "execution_count": 10,
     "metadata": {},
     "output_type": "execute_result"
    }
   ],
   "source": [
    "# DCstats t-test\n",
    "TTestContinuous(ec50[\"a1WTg\"].dropna(), ec50[\"a1S270Tg\"].dropna(), are_paired=False)"
   ]
  },
  {
   "cell_type": "code",
   "execution_count": 63,
   "metadata": {},
   "outputs": [
    {
     "name": "stdout",
     "output_type": "stream",
     "text": [
      "Effect size: Hedges unbiased d = 4.5928130703830226\n"
     ]
    }
   ],
   "source": [
    "hedges = Hedges_d(ec50[\"a1WTg\"].dropna(), ec50[\"a1S270Tg\"].dropna())\n",
    "hedges.hedges_d_unbiased()\n",
    "print('Effect size: Hedges unbiased d =', hedges.d)"
   ]
  },
  {
   "cell_type": "code",
   "execution_count": 54,
   "metadata": {},
   "outputs": [
    {
     "name": "stdout",
     "output_type": "stream",
     "text": [
      "\n",
      "\n",
      "   Rantest:  50000 randomisations\n",
      " P values for difference between means \n",
      "  greater than or equal to observed: P = \t 1.000000\n",
      "  less than or equal to observed: P = \t 0.000000\n",
      "  greater than or equal in absolute value to observed: P = \t 0.000000\n",
      "  Number equal to observed = 0 (P= 0.000000)\n",
      "  Number equal in absolute value to observed = 0 (P= 0.000000)\n"
     ]
    }
   ],
   "source": [
    "nran = 50000\n",
    "rnt = RantestContinuous(ec50[\"a1WTg\"].dropna(), ec50[\"a1S270Tg\"].dropna(), are_paired=False)    \n",
    "rnt.run_rantest(nran)\n",
    "print(rnt)"
   ]
  },
  {
   "cell_type": "code",
   "execution_count": 11,
   "metadata": {},
   "outputs": [
    {
     "data": {
      "text/plain": [
       "n \t\t 7      \t  6\n",
       "Mean \t\t 14.236884    \t  23.308177\n",
       "SD \t\t 5.844527     \t  2.732513\n",
       "SDM \t\t 2.209024     \t  1.115544\n",
       "95% confidence intervals:\n",
       "lower \t\t 9.907198    \t  21.121711\n",
       "upper \t\t 18.566571    \t  25.494642\n",
       "\n",
       " Two-sample unpaired Students t-test:\n",
       " t = \t -3.665588\n",
       " two tail P = \t 3.718E-03"
      ]
     },
     "execution_count": 11,
     "metadata": {},
     "output_type": "execute_result"
    }
   ],
   "source": [
    "TTestContinuous(ec50[\"a1WTs\"].dropna(), ec50[\"a1S270Ts\"].dropna(), are_paired=False)"
   ]
  },
  {
   "cell_type": "code",
   "execution_count": 64,
   "metadata": {},
   "outputs": [
    {
     "name": "stdout",
     "output_type": "stream",
     "text": [
      "Effect size: Hedges unbiased d = 1.7980201964190816\n"
     ]
    }
   ],
   "source": [
    "hedges = Hedges_d(ec50[\"a1WTs\"].dropna(), ec50[\"a1S270Ts\"].dropna())\n",
    "hedges.hedges_d_unbiased()\n",
    "print('Effect size: Hedges unbiased d =', hedges.d)"
   ]
  },
  {
   "cell_type": "code",
   "execution_count": 51,
   "metadata": {},
   "outputs": [
    {
     "name": "stdout",
     "output_type": "stream",
     "text": [
      "\n",
      "\n",
      "   Rantest:  50000 randomisations\n",
      " P values for difference between means \n",
      "  greater than or equal to observed: P = \t 0.996440\n",
      "  less than or equal to observed: P = \t 0.003560\n",
      "  greater than or equal in absolute value to observed: P = \t 0.007620\n",
      "  Number equal to observed = 0 (P= 0.000000)\n",
      "  Number equal in absolute value to observed = 0 (P= 0.000000)\n"
     ]
    }
   ],
   "source": [
    "nran = 50000\n",
    "rnt = RantestContinuous(ec50[\"a1WTs\"].dropna(), ec50[\"a1S270Ts\"].dropna(), are_paired=False)    \n",
    "rnt.run_rantest(nran)\n",
    "print(rnt)"
   ]
  },
  {
   "cell_type": "code",
   "execution_count": 12,
   "metadata": {},
   "outputs": [
    {
     "data": {
      "text/plain": [
       "F_onewayResult(statistic=99.3687212170434, pvalue=9.332016858407185e-21)"
      ]
     },
     "execution_count": 12,
     "metadata": {},
     "output_type": "execute_result"
    }
   ],
   "source": [
    "stats.f_oneway(ec50['a1WTg'].dropna(), \n",
    "               ec50['a1bWTg'].dropna(), \n",
    "               ec50['a1S270Tg'].dropna(), \n",
    "               ec50['a1bS270Tg'].dropna(),\n",
    "               ec50['a1WTs'].dropna(), \n",
    "               ec50['a1S270Ts'].dropna()\n",
    "              )"
   ]
  },
  {
   "cell_type": "code",
   "execution_count": 13,
   "metadata": {},
   "outputs": [
    {
     "name": "stdout",
     "output_type": "stream",
     "text": [
      "  Multiple Comparison of Means - Tukey HSD,FWER=0.05 \n",
      "=====================================================\n",
      "  group1    group2  meandiff  lower    upper   reject\n",
      "-----------------------------------------------------\n",
      " a1S270Tg  a1S270Ts 22.2239  18.1279  26.3199   True \n",
      " a1S270Tg   a1WTg   -0.8484   -4.446   2.7491  False \n",
      " a1S270Tg   a1WTs   13.1526   9.2273  17.0779   True \n",
      " a1S270Tg a1bS270Tg -0.2323  -4.0245   3.5599  False \n",
      " a1S270Tg   a1bWTg  -0.8511  -5.1748   3.4727  False \n",
      " a1S270Ts   a1WTg   -23.0724 -26.9889 -19.1558  True \n",
      " a1S270Ts   a1WTs   -9.0713  -13.2908 -4.8517   True \n",
      " a1S270Ts a1bS270Tg -22.4562 -26.5522 -18.3602  True \n",
      " a1S270Ts   a1bWTg  -23.075  -27.6676 -18.4824  True \n",
      "  a1WTg     a1WTs   14.0011  10.2635  17.7387   True \n",
      "  a1WTg   a1bS270Tg  0.6162  -2.9814   4.2138  False \n",
      "  a1WTg     a1bWTg  -0.0026  -4.1568   4.1515  False \n",
      "  a1WTs   a1bS270Tg -13.3849 -17.3102 -9.4596   True \n",
      "  a1WTs     a1bWTg  -14.0037 -18.4446 -9.5627   True \n",
      "a1bS270Tg   a1bWTg  -0.6188  -4.9426   3.705   False \n",
      "-----------------------------------------------------\n"
     ]
    },
    {
     "data": {
      "image/png": "[encoded data removed]",
      "text/plain": [
       "<Figure size 720x432 with 1 Axes>"
      ]
     },
     "metadata": {},
     "output_type": "display_data"
    }
   ],
   "source": [
    "tukey_summary_and_plot(stack_for_tukey(ec50), ec50.shape[1])"
   ]
  },
  {
   "cell_type": "markdown",
   "metadata": {},
   "source": [
    "### Relative current"
   ]
  },
  {
   "cell_type": "code",
   "execution_count": 15,
   "metadata": {},
   "outputs": [
    {
     "data": {
      "text/html": [
       "<div>\n",
       "<style scoped>\n",
       "    .dataframe tbody tr th:only-of-type {\n",
       "        vertical-align: middle;\n",
       "    }\n",
       "\n",
       "    .dataframe tbody tr th {\n",
       "        vertical-align: top;\n",
       "    }\n",
       "\n",
       "    .dataframe thead th {\n",
       "        text-align: right;\n",
       "    }\n",
       "</style>\n",
       "<table border=\"1\" class=\"dataframe\">\n",
       "  <thead>\n",
       "    <tr style=\"text-align: right;\">\n",
       "      <th></th>\n",
       "      <th>a1WTs</th>\n",
       "      <th>a1S270Ts</th>\n",
       "    </tr>\n",
       "  </thead>\n",
       "  <tbody>\n",
       "    <tr>\n",
       "      <th>0</th>\n",
       "      <td>0.403844</td>\n",
       "      <td>0.127884</td>\n",
       "    </tr>\n",
       "    <tr>\n",
       "      <th>1</th>\n",
       "      <td>0.495664</td>\n",
       "      <td>0.098185</td>\n",
       "    </tr>\n",
       "    <tr>\n",
       "      <th>2</th>\n",
       "      <td>0.597923</td>\n",
       "      <td>0.098890</td>\n",
       "    </tr>\n",
       "    <tr>\n",
       "      <th>3</th>\n",
       "      <td>0.637583</td>\n",
       "      <td>0.028487</td>\n",
       "    </tr>\n",
       "    <tr>\n",
       "      <th>4</th>\n",
       "      <td>0.288995</td>\n",
       "      <td>0.030032</td>\n",
       "    </tr>\n",
       "  </tbody>\n",
       "</table>\n",
       "</div>"
      ],
      "text/plain": [
       "      a1WTs  a1S270Ts\n",
       "0  0.403844  0.127884\n",
       "1  0.495664  0.098185\n",
       "2  0.597923  0.098890\n",
       "3  0.637583  0.028487\n",
       "4  0.288995  0.030032"
      ]
     },
     "execution_count": 15,
     "metadata": {},
     "output_type": "execute_result"
    }
   ],
   "source": [
    "Irel = xl.parse(\"Irel\")\n",
    "Irel.head()"
   ]
  },
  {
   "cell_type": "code",
   "execution_count": 16,
   "metadata": {},
   "outputs": [
    {
     "data": {
      "text/html": [
       "<div>\n",
       "<style scoped>\n",
       "    .dataframe tbody tr th:only-of-type {\n",
       "        vertical-align: middle;\n",
       "    }\n",
       "\n",
       "    .dataframe tbody tr th {\n",
       "        vertical-align: top;\n",
       "    }\n",
       "\n",
       "    .dataframe thead th {\n",
       "        text-align: right;\n",
       "    }\n",
       "</style>\n",
       "<table border=\"1\" class=\"dataframe\">\n",
       "  <thead>\n",
       "    <tr style=\"text-align: right;\">\n",
       "      <th></th>\n",
       "      <th>a1WTs</th>\n",
       "      <th>a1S270Ts</th>\n",
       "    </tr>\n",
       "  </thead>\n",
       "  <tbody>\n",
       "    <tr>\n",
       "      <th>count</th>\n",
       "      <td>11.000000</td>\n",
       "      <td>7.000000</td>\n",
       "    </tr>\n",
       "    <tr>\n",
       "      <th>mean</th>\n",
       "      <td>0.597643</td>\n",
       "      <td>0.084286</td>\n",
       "    </tr>\n",
       "    <tr>\n",
       "      <th>std</th>\n",
       "      <td>0.232022</td>\n",
       "      <td>0.041529</td>\n",
       "    </tr>\n",
       "    <tr>\n",
       "      <th>min</th>\n",
       "      <td>0.288995</td>\n",
       "      <td>0.028487</td>\n",
       "    </tr>\n",
       "    <tr>\n",
       "      <th>25%</th>\n",
       "      <td>0.408780</td>\n",
       "      <td>0.054078</td>\n",
       "    </tr>\n",
       "    <tr>\n",
       "      <th>50%</th>\n",
       "      <td>0.597923</td>\n",
       "      <td>0.098185</td>\n",
       "    </tr>\n",
       "    <tr>\n",
       "      <th>75%</th>\n",
       "      <td>0.786868</td>\n",
       "      <td>0.113387</td>\n",
       "    </tr>\n",
       "    <tr>\n",
       "      <th>max</th>\n",
       "      <td>0.919380</td>\n",
       "      <td>0.128398</td>\n",
       "    </tr>\n",
       "  </tbody>\n",
       "</table>\n",
       "</div>"
      ],
      "text/plain": [
       "           a1WTs  a1S270Ts\n",
       "count  11.000000  7.000000\n",
       "mean    0.597643  0.084286\n",
       "std     0.232022  0.041529\n",
       "min     0.288995  0.028487\n",
       "25%     0.408780  0.054078\n",
       "50%     0.597923  0.098185\n",
       "75%     0.786868  0.113387\n",
       "max     0.919380  0.128398"
      ]
     },
     "execution_count": 16,
     "metadata": {},
     "output_type": "execute_result"
    }
   ],
   "source": [
    "Irel.describe()"
   ]
  },
  {
   "cell_type": "code",
   "execution_count": 17,
   "metadata": {},
   "outputs": [
    {
     "data": {
      "text/plain": [
       "n \t\t 11      \t  7\n",
       "Mean \t\t 0.597643    \t  0.084286\n",
       "SD \t\t 0.232022     \t  0.041529\n",
       "SDM \t\t 0.069957     \t  0.015697\n",
       "95% confidence intervals:\n",
       "lower \t\t 0.460526    \t  0.053520\n",
       "upper \t\t 0.734759    \t  0.115051\n",
       "\n",
       " Two-sample unpaired Students t-test:\n",
       " t = \t 7.160120\n",
       " two tail P = \t 2.266E-06"
      ]
     },
     "execution_count": 17,
     "metadata": {},
     "output_type": "execute_result"
    }
   ],
   "source": [
    "# DCstats t-test\n",
    "TTestContinuous(Irel[\"a1WTs\"].dropna(), Irel[\"a1S270Ts\"].dropna(), are_paired=False)"
   ]
  },
  {
   "cell_type": "code",
   "execution_count": 18,
   "metadata": {},
   "outputs": [
    {
     "data": {
      "text/plain": [
       "F_onewayResult(statistic=32.87371445394882, pvalue=3.0793497669082805e-05)"
      ]
     },
     "execution_count": 18,
     "metadata": {},
     "output_type": "execute_result"
    }
   ],
   "source": [
    "stats.f_oneway(Irel['a1WTs'].dropna(), \n",
    "               Irel['a1S270Ts'].dropna()\n",
    "              )"
   ]
  },
  {
   "cell_type": "code",
   "execution_count": 19,
   "metadata": {},
   "outputs": [
    {
     "name": "stdout",
     "output_type": "stream",
     "text": [
      "Multiple Comparison of Means - Tukey HSD,FWER=0.05\n",
      "=============================================\n",
      " group1  group2 meandiff lower  upper  reject\n",
      "---------------------------------------------\n",
      "a1S270Ts a1WTs   0.5134  0.3236 0.7032  True \n",
      "---------------------------------------------\n"
     ]
    }
   ],
   "source": [
    "tukey_summary_and_plot(stack_for_tukey(Irel), 2)"
   ]
  },
  {
   "cell_type": "markdown",
   "metadata": {},
   "source": [
    "### maxPopen"
   ]
  },
  {
   "cell_type": "code",
   "execution_count": 20,
   "metadata": {},
   "outputs": [
    {
     "data": {
      "text/html": [
       "<div>\n",
       "<style scoped>\n",
       "    .dataframe tbody tr th:only-of-type {\n",
       "        vertical-align: middle;\n",
       "    }\n",
       "\n",
       "    .dataframe tbody tr th {\n",
       "        vertical-align: top;\n",
       "    }\n",
       "\n",
       "    .dataframe thead th {\n",
       "        text-align: right;\n",
       "    }\n",
       "</style>\n",
       "<table border=\"1\" class=\"dataframe\">\n",
       "  <thead>\n",
       "    <tr style=\"text-align: right;\">\n",
       "      <th></th>\n",
       "      <th>a1WTg</th>\n",
       "      <th>a1bWTg</th>\n",
       "      <th>a1S270Tg</th>\n",
       "      <th>a1bS270Tg</th>\n",
       "    </tr>\n",
       "  </thead>\n",
       "  <tbody>\n",
       "    <tr>\n",
       "      <th>0</th>\n",
       "      <td>0.997</td>\n",
       "      <td>0.988230</td>\n",
       "      <td>0.137347</td>\n",
       "      <td>0.8900</td>\n",
       "    </tr>\n",
       "    <tr>\n",
       "      <th>1</th>\n",
       "      <td>0.997</td>\n",
       "      <td>0.991865</td>\n",
       "      <td>0.244816</td>\n",
       "      <td>0.9965</td>\n",
       "    </tr>\n",
       "    <tr>\n",
       "      <th>2</th>\n",
       "      <td>0.997</td>\n",
       "      <td>0.994455</td>\n",
       "      <td>0.121860</td>\n",
       "      <td>0.9400</td>\n",
       "    </tr>\n",
       "    <tr>\n",
       "      <th>3</th>\n",
       "      <td>0.994</td>\n",
       "      <td>0.993009</td>\n",
       "      <td>0.220632</td>\n",
       "      <td>0.9700</td>\n",
       "    </tr>\n",
       "    <tr>\n",
       "      <th>4</th>\n",
       "      <td>0.986</td>\n",
       "      <td>0.996482</td>\n",
       "      <td>0.182138</td>\n",
       "      <td>0.9600</td>\n",
       "    </tr>\n",
       "  </tbody>\n",
       "</table>\n",
       "</div>"
      ],
      "text/plain": [
       "   a1WTg    a1bWTg  a1S270Tg  a1bS270Tg\n",
       "0  0.997  0.988230  0.137347     0.8900\n",
       "1  0.997  0.991865  0.244816     0.9965\n",
       "2  0.997  0.994455  0.121860     0.9400\n",
       "3  0.994  0.993009  0.220632     0.9700\n",
       "4  0.986  0.996482  0.182138     0.9600"
      ]
     },
     "execution_count": 20,
     "metadata": {},
     "output_type": "execute_result"
    }
   ],
   "source": [
    "mPop = xl.parse(\"maxPopen\")\n",
    "mPop.head()"
   ]
  },
  {
   "cell_type": "code",
   "execution_count": 21,
   "metadata": {},
   "outputs": [
    {
     "data": {
      "text/html": [
       "<div>\n",
       "<style scoped>\n",
       "    .dataframe tbody tr th:only-of-type {\n",
       "        vertical-align: middle;\n",
       "    }\n",
       "\n",
       "    .dataframe tbody tr th {\n",
       "        vertical-align: top;\n",
       "    }\n",
       "\n",
       "    .dataframe thead th {\n",
       "        text-align: right;\n",
       "    }\n",
       "</style>\n",
       "<table border=\"1\" class=\"dataframe\">\n",
       "  <thead>\n",
       "    <tr style=\"text-align: right;\">\n",
       "      <th></th>\n",
       "      <th>a1WTg</th>\n",
       "      <th>a1bWTg</th>\n",
       "      <th>a1S270Tg</th>\n",
       "      <th>a1bS270Tg</th>\n",
       "    </tr>\n",
       "  </thead>\n",
       "  <tbody>\n",
       "    <tr>\n",
       "      <th>count</th>\n",
       "      <td>45.000000</td>\n",
       "      <td>87.000000</td>\n",
       "      <td>128.000000</td>\n",
       "      <td>131.000000</td>\n",
       "    </tr>\n",
       "    <tr>\n",
       "      <th>mean</th>\n",
       "      <td>0.987067</td>\n",
       "      <td>0.993191</td>\n",
       "      <td>0.156523</td>\n",
       "      <td>0.964477</td>\n",
       "    </tr>\n",
       "    <tr>\n",
       "      <th>std</th>\n",
       "      <td>0.017705</td>\n",
       "      <td>0.005898</td>\n",
       "      <td>0.141228</td>\n",
       "      <td>0.027874</td>\n",
       "    </tr>\n",
       "    <tr>\n",
       "      <th>min</th>\n",
       "      <td>0.900000</td>\n",
       "      <td>0.964864</td>\n",
       "      <td>0.005038</td>\n",
       "      <td>0.850000</td>\n",
       "    </tr>\n",
       "    <tr>\n",
       "      <th>25%</th>\n",
       "      <td>0.987000</td>\n",
       "      <td>0.992267</td>\n",
       "      <td>0.067556</td>\n",
       "      <td>0.950000</td>\n",
       "    </tr>\n",
       "    <tr>\n",
       "      <th>50%</th>\n",
       "      <td>0.993000</td>\n",
       "      <td>0.994582</td>\n",
       "      <td>0.120919</td>\n",
       "      <td>0.970000</td>\n",
       "    </tr>\n",
       "    <tr>\n",
       "      <th>75%</th>\n",
       "      <td>0.997000</td>\n",
       "      <td>0.996703</td>\n",
       "      <td>0.193648</td>\n",
       "      <td>0.980000</td>\n",
       "    </tr>\n",
       "    <tr>\n",
       "      <th>max</th>\n",
       "      <td>0.999000</td>\n",
       "      <td>0.999531</td>\n",
       "      <td>0.826069</td>\n",
       "      <td>1.000000</td>\n",
       "    </tr>\n",
       "  </tbody>\n",
       "</table>\n",
       "</div>"
      ],
      "text/plain": [
       "           a1WTg     a1bWTg    a1S270Tg   a1bS270Tg\n",
       "count  45.000000  87.000000  128.000000  131.000000\n",
       "mean    0.987067   0.993191    0.156523    0.964477\n",
       "std     0.017705   0.005898    0.141228    0.027874\n",
       "min     0.900000   0.964864    0.005038    0.850000\n",
       "25%     0.987000   0.992267    0.067556    0.950000\n",
       "50%     0.993000   0.994582    0.120919    0.970000\n",
       "75%     0.997000   0.996703    0.193648    0.980000\n",
       "max     0.999000   0.999531    0.826069    1.000000"
      ]
     },
     "execution_count": 21,
     "metadata": {},
     "output_type": "execute_result"
    }
   ],
   "source": [
    "mPop.describe()"
   ]
  },
  {
   "cell_type": "code",
   "execution_count": 22,
   "metadata": {},
   "outputs": [
    {
     "data": {
      "text/plain": [
       "n \t\t 45      \t  87\n",
       "Mean \t\t 0.987067    \t  0.993191\n",
       "SD \t\t 0.017705     \t  0.005898\n",
       "SDM \t\t 0.002639     \t  0.000632\n",
       "95% confidence intervals:\n",
       "lower \t\t 0.981894    \t  0.991952\n",
       "upper \t\t 0.992240    \t  0.994431\n",
       "\n",
       " Two-sample unpaired Students t-test:\n",
       " t = \t -2.256697\n",
       " two tail P = \t 2.570E-02"
      ]
     },
     "execution_count": 22,
     "metadata": {},
     "output_type": "execute_result"
    }
   ],
   "source": [
    "# DCstats t-test\n",
    "TTestContinuous(mPop[\"a1WTg\"].dropna(), mPop[\"a1bWTg\"].dropna(), are_paired=False)"
   ]
  },
  {
   "cell_type": "code",
   "execution_count": 65,
   "metadata": {},
   "outputs": [
    {
     "name": "stdout",
     "output_type": "stream",
     "text": [
      "Effect size: Hedges unbiased d = 0.5358988365019389\n"
     ]
    }
   ],
   "source": [
    "hedges = Hedges_d(mPop[\"a1WTg\"].dropna(), mPop[\"a1bWTg\"].dropna())\n",
    "hedges.hedges_d_unbiased()\n",
    "print('Effect size: Hedges unbiased d =', hedges.d)"
   ]
  },
  {
   "cell_type": "code",
   "execution_count": 57,
   "metadata": {},
   "outputs": [
    {
     "name": "stdout",
     "output_type": "stream",
     "text": [
      "\n",
      "\n",
      "   Rantest:  50000 randomisations\n",
      " P values for difference between means \n",
      "  greater than or equal to observed: P = \t 0.998240\n",
      "  less than or equal to observed: P = \t 0.001760\n",
      "  greater than or equal in absolute value to observed: P = \t 0.001780\n",
      "  Number equal to observed = 0 (P= 0.000000)\n",
      "  Number equal in absolute value to observed = 0 (P= 0.000000)\n"
     ]
    }
   ],
   "source": [
    "nran = 50000\n",
    "rnt = RantestContinuous(mPop[\"a1WTg\"].dropna(), mPop[\"a1bWTg\"].dropna(), are_paired=False)    \n",
    "rnt.run_rantest(nran)\n",
    "print(rnt)"
   ]
  },
  {
   "cell_type": "code",
   "execution_count": 23,
   "metadata": {},
   "outputs": [
    {
     "data": {
      "text/plain": [
       "n \t\t 45      \t  128\n",
       "Mean \t\t 0.987067    \t  0.156523\n",
       "SD \t\t 0.017705     \t  0.141228\n",
       "SDM \t\t 0.002639     \t  0.012483\n",
       "95% confidence intervals:\n",
       "lower \t\t 0.981894    \t  0.132057\n",
       "upper \t\t 0.992240    \t  0.180990\n",
       "\n",
       " Two-sample unpaired Students t-test:\n",
       " t = \t 65.095228\n",
       " two tail P = \t 1.344E-122"
      ]
     },
     "execution_count": 23,
     "metadata": {},
     "output_type": "execute_result"
    }
   ],
   "source": [
    "# DCstats t-test\n",
    "TTestContinuous(mPop[\"a1WTg\"].dropna(), mPop[\"a1S270Tg\"].dropna(), are_paired=False)"
   ]
  },
  {
   "cell_type": "code",
   "execution_count": 24,
   "metadata": {},
   "outputs": [
    {
     "data": {
      "text/plain": [
       "n \t\t 128      \t  131\n",
       "Mean \t\t 0.156523    \t  0.964477\n",
       "SD \t\t 0.141228     \t  0.027874\n",
       "SDM \t\t 0.012483     \t  0.002435\n",
       "95% confidence intervals:\n",
       "lower \t\t 0.132057    \t  0.959704\n",
       "upper \t\t 0.180990    \t  0.969250\n",
       "\n",
       " Two-sample unpaired Students t-test:\n",
       " t = \t -63.526999\n",
       " two tail P = \t 3.808E-159"
      ]
     },
     "execution_count": 24,
     "metadata": {},
     "output_type": "execute_result"
    }
   ],
   "source": [
    "# DCstats t-test\n",
    "TTestContinuous(mPop[\"a1S270Tg\"].dropna(), mPop[\"a1bS270Tg\"].dropna(), are_paired=False)"
   ]
  },
  {
   "cell_type": "code",
   "execution_count": 25,
   "metadata": {},
   "outputs": [
    {
     "data": {
      "text/plain": [
       "n \t\t 87      \t  131\n",
       "Mean \t\t 0.993191    \t  0.964477\n",
       "SD \t\t 0.005898     \t  0.027874\n",
       "SDM \t\t 0.000632     \t  0.002435\n",
       "95% confidence intervals:\n",
       "lower \t\t 0.991952    \t  0.959704\n",
       "upper \t\t 0.994431    \t  0.969250\n",
       "\n",
       " Two-sample unpaired Students t-test:\n",
       " t = \t 11.412019\n",
       " two tail P = \t 6.491E-24"
      ]
     },
     "execution_count": 25,
     "metadata": {},
     "output_type": "execute_result"
    }
   ],
   "source": [
    "# DCstats t-test\n",
    "TTestContinuous(mPop[\"a1bWTg\"].dropna(), mPop[\"a1bS270Tg\"].dropna(), are_paired=False)"
   ]
  },
  {
   "cell_type": "code",
   "execution_count": 26,
   "metadata": {},
   "outputs": [
    {
     "data": {
      "text/plain": [
       "F_onewayResult(statistic=2828.5990754751997, pvalue=9.106610245864995e-263)"
      ]
     },
     "execution_count": 26,
     "metadata": {},
     "output_type": "execute_result"
    }
   ],
   "source": [
    "stats.f_oneway(mPop['a1WTg'].dropna(), \n",
    "               mPop['a1bWTg'].dropna(), \n",
    "               mPop['a1S270Tg'].dropna(), \n",
    "               mPop['a1bS270Tg'].dropna(),\n",
    "              )"
   ]
  },
  {
   "cell_type": "code",
   "execution_count": 27,
   "metadata": {},
   "outputs": [
    {
     "name": "stdout",
     "output_type": "stream",
     "text": [
      "Multiple Comparison of Means - Tukey HSD,FWER=0.05\n",
      "==================================================\n",
      "  group1    group2  meandiff  lower  upper  reject\n",
      "--------------------------------------------------\n",
      " a1S270Tg   a1WTg    0.8305   0.7935 0.8676  True \n",
      " a1S270Tg a1bS270Tg  0.808    0.7814 0.8345  True \n",
      " a1S270Tg   a1bWTg   0.8367   0.807  0.8663  True \n",
      "  a1WTg   a1bS270Tg -0.0226  -0.0595 0.0143 False \n",
      "  a1WTg     a1bWTg   0.0061  -0.0331 0.0453 False \n",
      "a1bS270Tg   a1bWTg   0.0287  -0.0008 0.0582 False \n",
      "--------------------------------------------------\n"
     ]
    },
    {
     "data": {
      "image/png": "[encoded data removed]",
      "text/plain": [
       "<Figure size 720x432 with 1 Axes>"
      ]
     },
     "metadata": {},
     "output_type": "display_data"
    }
   ],
   "source": [
    "tukey_summary_and_plot(stack_for_tukey(mPop), mPop.shape[1])"
   ]
  },
  {
   "cell_type": "markdown",
   "metadata": {},
   "source": [
    "### Single channel amplitudes"
   ]
  },
  {
   "cell_type": "code",
   "execution_count": 28,
   "metadata": {},
   "outputs": [
    {
     "data": {
      "text/html": [
       "<div>\n",
       "<style scoped>\n",
       "    .dataframe tbody tr th:only-of-type {\n",
       "        vertical-align: middle;\n",
       "    }\n",
       "\n",
       "    .dataframe tbody tr th {\n",
       "        vertical-align: top;\n",
       "    }\n",
       "\n",
       "    .dataframe thead th {\n",
       "        text-align: right;\n",
       "    }\n",
       "</style>\n",
       "<table border=\"1\" class=\"dataframe\">\n",
       "  <thead>\n",
       "    <tr style=\"text-align: right;\">\n",
       "      <th></th>\n",
       "      <th>a1WTg</th>\n",
       "      <th>a1bWTg</th>\n",
       "      <th>a1S270Tg</th>\n",
       "      <th>a1bS270Tg</th>\n",
       "    </tr>\n",
       "  </thead>\n",
       "  <tbody>\n",
       "    <tr>\n",
       "      <th>0</th>\n",
       "      <td>5.57</td>\n",
       "      <td>2.292788</td>\n",
       "      <td>5.331562</td>\n",
       "      <td>1.91</td>\n",
       "    </tr>\n",
       "    <tr>\n",
       "      <th>1</th>\n",
       "      <td>5.62</td>\n",
       "      <td>2.269318</td>\n",
       "      <td>5.067471</td>\n",
       "      <td>2.23</td>\n",
       "    </tr>\n",
       "    <tr>\n",
       "      <th>2</th>\n",
       "      <td>5.19</td>\n",
       "      <td>2.681124</td>\n",
       "      <td>5.102301</td>\n",
       "      <td>2.12</td>\n",
       "    </tr>\n",
       "    <tr>\n",
       "      <th>3</th>\n",
       "      <td>5.49</td>\n",
       "      <td>2.462000</td>\n",
       "      <td>4.968930</td>\n",
       "      <td>2.37</td>\n",
       "    </tr>\n",
       "    <tr>\n",
       "      <th>4</th>\n",
       "      <td>4.62</td>\n",
       "      <td>2.452268</td>\n",
       "      <td>5.183255</td>\n",
       "      <td>2.35</td>\n",
       "    </tr>\n",
       "  </tbody>\n",
       "</table>\n",
       "</div>"
      ],
      "text/plain": [
       "   a1WTg    a1bWTg  a1S270Tg  a1bS270Tg\n",
       "0   5.57  2.292788  5.331562       1.91\n",
       "1   5.62  2.269318  5.067471       2.23\n",
       "2   5.19  2.681124  5.102301       2.12\n",
       "3   5.49  2.462000  4.968930       2.37\n",
       "4   4.62  2.452268  5.183255       2.35"
      ]
     },
     "execution_count": 28,
     "metadata": {},
     "output_type": "execute_result"
    }
   ],
   "source": [
    "amp = xl.parse(\"sc_amplitudes\")\n",
    "amp.head()"
   ]
  },
  {
   "cell_type": "code",
   "execution_count": 29,
   "metadata": {},
   "outputs": [
    {
     "data": {
      "text/html": [
       "<div>\n",
       "<style scoped>\n",
       "    .dataframe tbody tr th:only-of-type {\n",
       "        vertical-align: middle;\n",
       "    }\n",
       "\n",
       "    .dataframe tbody tr th {\n",
       "        vertical-align: top;\n",
       "    }\n",
       "\n",
       "    .dataframe thead th {\n",
       "        text-align: right;\n",
       "    }\n",
       "</style>\n",
       "<table border=\"1\" class=\"dataframe\">\n",
       "  <thead>\n",
       "    <tr style=\"text-align: right;\">\n",
       "      <th></th>\n",
       "      <th>a1WTg</th>\n",
       "      <th>a1bWTg</th>\n",
       "      <th>a1S270Tg</th>\n",
       "      <th>a1bS270Tg</th>\n",
       "    </tr>\n",
       "  </thead>\n",
       "  <tbody>\n",
       "    <tr>\n",
       "      <th>count</th>\n",
       "      <td>45.000000</td>\n",
       "      <td>87.000000</td>\n",
       "      <td>128.000000</td>\n",
       "      <td>131.000000</td>\n",
       "    </tr>\n",
       "    <tr>\n",
       "      <th>mean</th>\n",
       "      <td>5.550222</td>\n",
       "      <td>2.537316</td>\n",
       "      <td>4.409221</td>\n",
       "      <td>2.942901</td>\n",
       "    </tr>\n",
       "    <tr>\n",
       "      <th>std</th>\n",
       "      <td>0.469712</td>\n",
       "      <td>0.220310</td>\n",
       "      <td>0.784886</td>\n",
       "      <td>0.632665</td>\n",
       "    </tr>\n",
       "    <tr>\n",
       "      <th>min</th>\n",
       "      <td>3.910000</td>\n",
       "      <td>1.968898</td>\n",
       "      <td>2.610942</td>\n",
       "      <td>1.910000</td>\n",
       "    </tr>\n",
       "    <tr>\n",
       "      <th>25%</th>\n",
       "      <td>5.400000</td>\n",
       "      <td>2.402617</td>\n",
       "      <td>3.789110</td>\n",
       "      <td>2.390000</td>\n",
       "    </tr>\n",
       "    <tr>\n",
       "      <th>50%</th>\n",
       "      <td>5.620000</td>\n",
       "      <td>2.514087</td>\n",
       "      <td>4.258565</td>\n",
       "      <td>2.720000</td>\n",
       "    </tr>\n",
       "    <tr>\n",
       "      <th>75%</th>\n",
       "      <td>5.810000</td>\n",
       "      <td>2.649561</td>\n",
       "      <td>5.159386</td>\n",
       "      <td>3.625000</td>\n",
       "    </tr>\n",
       "    <tr>\n",
       "      <th>max</th>\n",
       "      <td>6.210000</td>\n",
       "      <td>3.367562</td>\n",
       "      <td>5.679758</td>\n",
       "      <td>4.140000</td>\n",
       "    </tr>\n",
       "  </tbody>\n",
       "</table>\n",
       "</div>"
      ],
      "text/plain": [
       "           a1WTg     a1bWTg    a1S270Tg   a1bS270Tg\n",
       "count  45.000000  87.000000  128.000000  131.000000\n",
       "mean    5.550222   2.537316    4.409221    2.942901\n",
       "std     0.469712   0.220310    0.784886    0.632665\n",
       "min     3.910000   1.968898    2.610942    1.910000\n",
       "25%     5.400000   2.402617    3.789110    2.390000\n",
       "50%     5.620000   2.514087    4.258565    2.720000\n",
       "75%     5.810000   2.649561    5.159386    3.625000\n",
       "max     6.210000   3.367562    5.679758    4.140000"
      ]
     },
     "execution_count": 29,
     "metadata": {},
     "output_type": "execute_result"
    }
   ],
   "source": [
    "amp.describe()"
   ]
  },
  {
   "cell_type": "code",
   "execution_count": 30,
   "metadata": {},
   "outputs": [
    {
     "data": {
      "text/plain": [
       "n \t\t 45      \t  87\n",
       "Mean \t\t 5.550222    \t  2.537316\n",
       "SD \t\t 0.469712     \t  0.220310\n",
       "SDM \t\t 0.070021     \t  0.023620\n",
       "95% confidence intervals:\n",
       "lower \t\t 5.412982    \t  2.491022\n",
       "upper \t\t 5.687463    \t  2.583611\n",
       "\n",
       " Two-sample unpaired Students t-test:\n",
       " t = \t 40.771696\n",
       " two tail P = \t 6.228E-76"
      ]
     },
     "execution_count": 30,
     "metadata": {},
     "output_type": "execute_result"
    }
   ],
   "source": [
    "# DCstats t-test\n",
    "TTestContinuous(amp[\"a1WTg\"].dropna(), amp[\"a1bWTg\"].dropna(), are_paired=False)"
   ]
  },
  {
   "cell_type": "code",
   "execution_count": 31,
   "metadata": {},
   "outputs": [
    {
     "data": {
      "text/plain": [
       "n \t\t 45      \t  128\n",
       "Mean \t\t 5.550222    \t  4.409221\n",
       "SD \t\t 0.469712     \t  0.784886\n",
       "SDM \t\t 0.070021     \t  0.069375\n",
       "95% confidence intervals:\n",
       "lower \t\t 5.412982    \t  4.273247\n",
       "upper \t\t 5.687463    \t  4.545196\n",
       "\n",
       " Two-sample unpaired Students t-test:\n",
       " t = \t 11.575725\n",
       " two tail P = \t 2.979E-23"
      ]
     },
     "execution_count": 31,
     "metadata": {},
     "output_type": "execute_result"
    }
   ],
   "source": [
    "# DCstats t-test\n",
    "TTestContinuous(amp[\"a1WTg\"].dropna(), amp[\"a1S270Tg\"].dropna(), are_paired=False)"
   ]
  },
  {
   "cell_type": "code",
   "execution_count": 32,
   "metadata": {},
   "outputs": [
    {
     "data": {
      "text/plain": [
       "n \t\t 87      \t  131\n",
       "Mean \t\t 2.537316    \t  2.942901\n",
       "SD \t\t 0.220310     \t  0.632665\n",
       "SDM \t\t 0.023620     \t  0.055276\n",
       "95% confidence intervals:\n",
       "lower \t\t 2.491022    \t  2.834559\n",
       "upper \t\t 2.583611    \t  3.051242\n",
       "\n",
       " Two-sample unpaired Students t-test:\n",
       " t = \t -6.747245\n",
       " two tail P = \t 1.363E-10"
      ]
     },
     "execution_count": 32,
     "metadata": {},
     "output_type": "execute_result"
    }
   ],
   "source": [
    "# DCstats t-test\n",
    "TTestContinuous(amp[\"a1bWTg\"].dropna(), amp[\"a1bS270Tg\"].dropna(), are_paired=False)"
   ]
  },
  {
   "cell_type": "code",
   "execution_count": 33,
   "metadata": {},
   "outputs": [
    {
     "data": {
      "text/plain": [
       "F_onewayResult(statistic=366.32911498669176, pvalue=1.1712913435866456e-112)"
      ]
     },
     "execution_count": 33,
     "metadata": {},
     "output_type": "execute_result"
    }
   ],
   "source": [
    "stats.f_oneway(amp['a1WTg'].dropna(), \n",
    "               amp['a1bWTg'].dropna(), \n",
    "               amp['a1S270Tg'].dropna(), \n",
    "               amp['a1bS270Tg'].dropna(),\n",
    "              )"
   ]
  },
  {
   "cell_type": "code",
   "execution_count": 34,
   "metadata": {},
   "outputs": [
    {
     "name": "stdout",
     "output_type": "stream",
     "text": [
      " Multiple Comparison of Means - Tukey HSD,FWER=0.05\n",
      "===================================================\n",
      "  group1    group2  meandiff  lower   upper  reject\n",
      "---------------------------------------------------\n",
      " a1S270Tg   a1WTg    1.141    0.8681  1.4139  True \n",
      " a1S270Tg a1bS270Tg -1.4663   -1.662 -1.2706  True \n",
      " a1S270Tg   a1bWTg  -1.8719  -2.0907 -1.6531  True \n",
      "  a1WTg   a1bS270Tg -2.6073  -2.8794 -2.3352  True \n",
      "  a1WTg     a1bWTg  -3.0129  -3.3021 -2.7237  True \n",
      "a1bS270Tg   a1bWTg  -0.4056  -0.6234 -0.1878  True \n",
      "---------------------------------------------------\n"
     ]
    },
    {
     "data": {
      "image/png": "[encoded data removed]",
      "text/plain": [
       "<Figure size 720x432 with 1 Axes>"
      ]
     },
     "metadata": {},
     "output_type": "display_data"
    }
   ],
   "source": [
    "tukey_summary_and_plot(stack_for_tukey(amp), amp.shape[1])"
   ]
  },
  {
   "cell_type": "markdown",
   "metadata": {},
   "source": [
    "### Jumps"
   ]
  },
  {
   "cell_type": "code",
   "execution_count": 35,
   "metadata": {},
   "outputs": [
    {
     "data": {
      "text/html": [
       "<div>\n",
       "<style scoped>\n",
       "    .dataframe tbody tr th:only-of-type {\n",
       "        vertical-align: middle;\n",
       "    }\n",
       "\n",
       "    .dataframe tbody tr th {\n",
       "        vertical-align: top;\n",
       "    }\n",
       "\n",
       "    .dataframe thead th {\n",
       "        text-align: right;\n",
       "    }\n",
       "</style>\n",
       "<table border=\"1\" class=\"dataframe\">\n",
       "  <thead>\n",
       "    <tr style=\"text-align: right;\">\n",
       "      <th></th>\n",
       "      <th>a1WTg</th>\n",
       "      <th>a1bWTg</th>\n",
       "      <th>a1S270Tg</th>\n",
       "      <th>a1bS270Tg</th>\n",
       "    </tr>\n",
       "  </thead>\n",
       "  <tbody>\n",
       "    <tr>\n",
       "      <th>0</th>\n",
       "      <td>768.0</td>\n",
       "      <td>151.0</td>\n",
       "      <td>98.8</td>\n",
       "      <td>32.5</td>\n",
       "    </tr>\n",
       "    <tr>\n",
       "      <th>1</th>\n",
       "      <td>2691.0</td>\n",
       "      <td>25.4</td>\n",
       "      <td>43.5</td>\n",
       "      <td>125.0</td>\n",
       "    </tr>\n",
       "    <tr>\n",
       "      <th>2</th>\n",
       "      <td>7563.0</td>\n",
       "      <td>69.4</td>\n",
       "      <td>81.5</td>\n",
       "      <td>567.0</td>\n",
       "    </tr>\n",
       "    <tr>\n",
       "      <th>3</th>\n",
       "      <td>2662.0</td>\n",
       "      <td>228.0</td>\n",
       "      <td>13.4</td>\n",
       "      <td>95.5</td>\n",
       "    </tr>\n",
       "    <tr>\n",
       "      <th>4</th>\n",
       "      <td>10784.0</td>\n",
       "      <td>64.5</td>\n",
       "      <td>36.4</td>\n",
       "      <td>326.0</td>\n",
       "    </tr>\n",
       "  </tbody>\n",
       "</table>\n",
       "</div>"
      ],
      "text/plain": [
       "     a1WTg  a1bWTg  a1S270Tg  a1bS270Tg\n",
       "0    768.0   151.0      98.8       32.5\n",
       "1   2691.0    25.4      43.5      125.0\n",
       "2   7563.0    69.4      81.5      567.0\n",
       "3   2662.0   228.0      13.4       95.5\n",
       "4  10784.0    64.5      36.4      326.0"
      ]
     },
     "execution_count": 35,
     "metadata": {},
     "output_type": "execute_result"
    }
   ],
   "source": [
    "jpeak = xl.parse(\"jump_peak\")\n",
    "jpeak.head()"
   ]
  },
  {
   "cell_type": "code",
   "execution_count": 36,
   "metadata": {},
   "outputs": [
    {
     "data": {
      "text/html": [
       "<div>\n",
       "<style scoped>\n",
       "    .dataframe tbody tr th:only-of-type {\n",
       "        vertical-align: middle;\n",
       "    }\n",
       "\n",
       "    .dataframe tbody tr th {\n",
       "        vertical-align: top;\n",
       "    }\n",
       "\n",
       "    .dataframe thead th {\n",
       "        text-align: right;\n",
       "    }\n",
       "</style>\n",
       "<table border=\"1\" class=\"dataframe\">\n",
       "  <thead>\n",
       "    <tr style=\"text-align: right;\">\n",
       "      <th></th>\n",
       "      <th>a1WTg</th>\n",
       "      <th>a1bWTg</th>\n",
       "      <th>a1S270Tg</th>\n",
       "      <th>a1bS270Tg</th>\n",
       "    </tr>\n",
       "  </thead>\n",
       "  <tbody>\n",
       "    <tr>\n",
       "      <th>count</th>\n",
       "      <td>6.000000</td>\n",
       "      <td>5.000000</td>\n",
       "      <td>6.000000</td>\n",
       "      <td>7.000000</td>\n",
       "    </tr>\n",
       "    <tr>\n",
       "      <th>mean</th>\n",
       "      <td>4945.500000</td>\n",
       "      <td>107.660000</td>\n",
       "      <td>54.616667</td>\n",
       "      <td>175.657143</td>\n",
       "    </tr>\n",
       "    <tr>\n",
       "      <th>std</th>\n",
       "      <td>3708.244261</td>\n",
       "      <td>81.322494</td>\n",
       "      <td>31.078572</td>\n",
       "      <td>200.805975</td>\n",
       "    </tr>\n",
       "    <tr>\n",
       "      <th>min</th>\n",
       "      <td>768.000000</td>\n",
       "      <td>25.400000</td>\n",
       "      <td>13.400000</td>\n",
       "      <td>21.000000</td>\n",
       "    </tr>\n",
       "    <tr>\n",
       "      <th>25%</th>\n",
       "      <td>2669.250000</td>\n",
       "      <td>64.500000</td>\n",
       "      <td>38.175000</td>\n",
       "      <td>47.550000</td>\n",
       "    </tr>\n",
       "    <tr>\n",
       "      <th>50%</th>\n",
       "      <td>3948.000000</td>\n",
       "      <td>69.400000</td>\n",
       "      <td>48.800000</td>\n",
       "      <td>95.500000</td>\n",
       "    </tr>\n",
       "    <tr>\n",
       "      <th>75%</th>\n",
       "      <td>6973.500000</td>\n",
       "      <td>151.000000</td>\n",
       "      <td>74.650000</td>\n",
       "      <td>225.500000</td>\n",
       "    </tr>\n",
       "    <tr>\n",
       "      <th>max</th>\n",
       "      <td>10784.000000</td>\n",
       "      <td>228.000000</td>\n",
       "      <td>98.800000</td>\n",
       "      <td>567.000000</td>\n",
       "    </tr>\n",
       "  </tbody>\n",
       "</table>\n",
       "</div>"
      ],
      "text/plain": [
       "              a1WTg      a1bWTg   a1S270Tg   a1bS270Tg\n",
       "count      6.000000    5.000000   6.000000    7.000000\n",
       "mean    4945.500000  107.660000  54.616667  175.657143\n",
       "std     3708.244261   81.322494  31.078572  200.805975\n",
       "min      768.000000   25.400000  13.400000   21.000000\n",
       "25%     2669.250000   64.500000  38.175000   47.550000\n",
       "50%     3948.000000   69.400000  48.800000   95.500000\n",
       "75%     6973.500000  151.000000  74.650000  225.500000\n",
       "max    10784.000000  228.000000  98.800000  567.000000"
      ]
     },
     "execution_count": 36,
     "metadata": {},
     "output_type": "execute_result"
    }
   ],
   "source": [
    "jpeak.describe()"
   ]
  },
  {
   "cell_type": "markdown",
   "metadata": {},
   "source": [
    "##### Jump activation"
   ]
  },
  {
   "cell_type": "code",
   "execution_count": 37,
   "metadata": {},
   "outputs": [
    {
     "data": {
      "text/html": [
       "<div>\n",
       "<style scoped>\n",
       "    .dataframe tbody tr th:only-of-type {\n",
       "        vertical-align: middle;\n",
       "    }\n",
       "\n",
       "    .dataframe tbody tr th {\n",
       "        vertical-align: top;\n",
       "    }\n",
       "\n",
       "    .dataframe thead th {\n",
       "        text-align: right;\n",
       "    }\n",
       "</style>\n",
       "<table border=\"1\" class=\"dataframe\">\n",
       "  <thead>\n",
       "    <tr style=\"text-align: right;\">\n",
       "      <th></th>\n",
       "      <th>a1WTg</th>\n",
       "      <th>a1bWTg</th>\n",
       "      <th>a1S270Tg</th>\n",
       "      <th>a1bS270Tg</th>\n",
       "    </tr>\n",
       "  </thead>\n",
       "  <tbody>\n",
       "    <tr>\n",
       "      <th>0</th>\n",
       "      <td>0.144</td>\n",
       "      <td>0.196</td>\n",
       "      <td>0.211</td>\n",
       "      <td>0.196</td>\n",
       "    </tr>\n",
       "    <tr>\n",
       "      <th>1</th>\n",
       "      <td>0.214</td>\n",
       "      <td>0.122</td>\n",
       "      <td>0.281</td>\n",
       "      <td>0.173</td>\n",
       "    </tr>\n",
       "    <tr>\n",
       "      <th>2</th>\n",
       "      <td>0.094</td>\n",
       "      <td>0.390</td>\n",
       "      <td>0.286</td>\n",
       "      <td>0.195</td>\n",
       "    </tr>\n",
       "    <tr>\n",
       "      <th>3</th>\n",
       "      <td>0.123</td>\n",
       "      <td>0.161</td>\n",
       "      <td>0.359</td>\n",
       "      <td>0.149</td>\n",
       "    </tr>\n",
       "    <tr>\n",
       "      <th>4</th>\n",
       "      <td>0.103</td>\n",
       "      <td>0.268</td>\n",
       "      <td>0.613</td>\n",
       "      <td>0.158</td>\n",
       "    </tr>\n",
       "  </tbody>\n",
       "</table>\n",
       "</div>"
      ],
      "text/plain": [
       "   a1WTg  a1bWTg  a1S270Tg  a1bS270Tg\n",
       "0  0.144   0.196     0.211      0.196\n",
       "1  0.214   0.122     0.281      0.173\n",
       "2  0.094   0.390     0.286      0.195\n",
       "3  0.123   0.161     0.359      0.149\n",
       "4  0.103   0.268     0.613      0.158"
      ]
     },
     "execution_count": 37,
     "metadata": {},
     "output_type": "execute_result"
    }
   ],
   "source": [
    "jrise = xl.parse(\"jump_rise\")\n",
    "jrise.head()"
   ]
  },
  {
   "cell_type": "code",
   "execution_count": 38,
   "metadata": {},
   "outputs": [
    {
     "data": {
      "text/html": [
       "<div>\n",
       "<style scoped>\n",
       "    .dataframe tbody tr th:only-of-type {\n",
       "        vertical-align: middle;\n",
       "    }\n",
       "\n",
       "    .dataframe tbody tr th {\n",
       "        vertical-align: top;\n",
       "    }\n",
       "\n",
       "    .dataframe thead th {\n",
       "        text-align: right;\n",
       "    }\n",
       "</style>\n",
       "<table border=\"1\" class=\"dataframe\">\n",
       "  <thead>\n",
       "    <tr style=\"text-align: right;\">\n",
       "      <th></th>\n",
       "      <th>a1WTg</th>\n",
       "      <th>a1bWTg</th>\n",
       "      <th>a1S270Tg</th>\n",
       "      <th>a1bS270Tg</th>\n",
       "    </tr>\n",
       "  </thead>\n",
       "  <tbody>\n",
       "    <tr>\n",
       "      <th>count</th>\n",
       "      <td>6.000000</td>\n",
       "      <td>5.000000</td>\n",
       "      <td>6.000000</td>\n",
       "      <td>7.000000</td>\n",
       "    </tr>\n",
       "    <tr>\n",
       "      <th>mean</th>\n",
       "      <td>0.130106</td>\n",
       "      <td>0.227400</td>\n",
       "      <td>0.355667</td>\n",
       "      <td>0.182429</td>\n",
       "    </tr>\n",
       "    <tr>\n",
       "      <th>std</th>\n",
       "      <td>0.044888</td>\n",
       "      <td>0.105583</td>\n",
       "      <td>0.140279</td>\n",
       "      <td>0.025690</td>\n",
       "    </tr>\n",
       "    <tr>\n",
       "      <th>min</th>\n",
       "      <td>0.094000</td>\n",
       "      <td>0.122000</td>\n",
       "      <td>0.211000</td>\n",
       "      <td>0.149000</td>\n",
       "    </tr>\n",
       "    <tr>\n",
       "      <th>25%</th>\n",
       "      <td>0.102728</td>\n",
       "      <td>0.161000</td>\n",
       "      <td>0.282250</td>\n",
       "      <td>0.165500</td>\n",
       "    </tr>\n",
       "    <tr>\n",
       "      <th>50%</th>\n",
       "      <td>0.113000</td>\n",
       "      <td>0.196000</td>\n",
       "      <td>0.322500</td>\n",
       "      <td>0.181000</td>\n",
       "    </tr>\n",
       "    <tr>\n",
       "      <th>75%</th>\n",
       "      <td>0.138750</td>\n",
       "      <td>0.268000</td>\n",
       "      <td>0.377750</td>\n",
       "      <td>0.195500</td>\n",
       "    </tr>\n",
       "    <tr>\n",
       "      <th>max</th>\n",
       "      <td>0.214000</td>\n",
       "      <td>0.390000</td>\n",
       "      <td>0.613000</td>\n",
       "      <td>0.225000</td>\n",
       "    </tr>\n",
       "  </tbody>\n",
       "</table>\n",
       "</div>"
      ],
      "text/plain": [
       "          a1WTg    a1bWTg  a1S270Tg  a1bS270Tg\n",
       "count  6.000000  5.000000  6.000000   7.000000\n",
       "mean   0.130106  0.227400  0.355667   0.182429\n",
       "std    0.044888  0.105583  0.140279   0.025690\n",
       "min    0.094000  0.122000  0.211000   0.149000\n",
       "25%    0.102728  0.161000  0.282250   0.165500\n",
       "50%    0.113000  0.196000  0.322500   0.181000\n",
       "75%    0.138750  0.268000  0.377750   0.195500\n",
       "max    0.214000  0.390000  0.613000   0.225000"
      ]
     },
     "execution_count": 38,
     "metadata": {},
     "output_type": "execute_result"
    }
   ],
   "source": [
    "jrise.describe()"
   ]
  },
  {
   "cell_type": "code",
   "execution_count": 39,
   "metadata": {},
   "outputs": [
    {
     "data": {
      "text/plain": [
       "n \t\t 6      \t  5\n",
       "Mean \t\t 0.130106    \t  0.227400\n",
       "SD \t\t 0.044888     \t  0.105583\n",
       "SDM \t\t 0.018325     \t  0.047218\n",
       "95% confidence intervals:\n",
       "lower \t\t 0.094188    \t  0.134852\n",
       "upper \t\t 0.166024    \t  0.319948\n",
       "\n",
       " Two-sample unpaired Students t-test:\n",
       " t = \t -1.920920\n",
       " two tail P = \t 8.693E-02"
      ]
     },
     "execution_count": 39,
     "metadata": {},
     "output_type": "execute_result"
    }
   ],
   "source": [
    "# DCstats t-test\n",
    "TTestContinuous(jrise[\"a1WTg\"].dropna(), jrise[\"a1bWTg\"].dropna(), are_paired=False)"
   ]
  },
  {
   "cell_type": "code",
   "execution_count": 40,
   "metadata": {},
   "outputs": [
    {
     "data": {
      "text/plain": [
       "F_onewayResult(statistic=7.174369140914456, pvalue=0.001863266577636503)"
      ]
     },
     "execution_count": 40,
     "metadata": {},
     "output_type": "execute_result"
    }
   ],
   "source": [
    "stats.f_oneway(jrise['a1WTg'].dropna(), \n",
    "               jrise['a1bWTg'].dropna(), \n",
    "               jrise['a1S270Tg'].dropna(), \n",
    "               jrise['a1bS270Tg'].dropna(),\n",
    "              )"
   ]
  },
  {
   "cell_type": "code",
   "execution_count": 41,
   "metadata": {},
   "outputs": [
    {
     "name": "stdout",
     "output_type": "stream",
     "text": [
      " Multiple Comparison of Means - Tukey HSD,FWER=0.05\n",
      "===================================================\n",
      "  group1    group2  meandiff  lower   upper  reject\n",
      "---------------------------------------------------\n",
      " a1S270Tg   a1WTg   -0.2256  -0.3687 -0.0824  True \n",
      " a1S270Tg a1bS270Tg -0.1732  -0.3112 -0.0353  True \n",
      " a1S270Tg   a1bWTg  -0.1283  -0.2784  0.0219 False \n",
      "  a1WTg   a1bS270Tg  0.0523  -0.0857  0.1903 False \n",
      "  a1WTg     a1bWTg   0.0973  -0.0529  0.2475 False \n",
      "a1bS270Tg   a1bWTg   0.045   -0.1002  0.1902 False \n",
      "---------------------------------------------------\n"
     ]
    },
    {
     "data": {
      "image/png": "[encoded data removed]",
      "text/plain": [
       "<Figure size 720x432 with 1 Axes>"
      ]
     },
     "metadata": {},
     "output_type": "display_data"
    }
   ],
   "source": [
    "tukey_summary_and_plot(stack_for_tukey(jrise), jrise.shape[1])"
   ]
  },
  {
   "cell_type": "markdown",
   "metadata": {},
   "source": [
    "##### Jump deactivation"
   ]
  },
  {
   "cell_type": "code",
   "execution_count": 42,
   "metadata": {},
   "outputs": [
    {
     "data": {
      "text/html": [
       "<div>\n",
       "<style scoped>\n",
       "    .dataframe tbody tr th:only-of-type {\n",
       "        vertical-align: middle;\n",
       "    }\n",
       "\n",
       "    .dataframe tbody tr th {\n",
       "        vertical-align: top;\n",
       "    }\n",
       "\n",
       "    .dataframe thead th {\n",
       "        text-align: right;\n",
       "    }\n",
       "</style>\n",
       "<table border=\"1\" class=\"dataframe\">\n",
       "  <thead>\n",
       "    <tr style=\"text-align: right;\">\n",
       "      <th></th>\n",
       "      <th>a1WTg</th>\n",
       "      <th>a1bWTg</th>\n",
       "      <th>a1S270Tg</th>\n",
       "      <th>a1bS270Tg</th>\n",
       "    </tr>\n",
       "  </thead>\n",
       "  <tbody>\n",
       "    <tr>\n",
       "      <th>0</th>\n",
       "      <td>18.9000</td>\n",
       "      <td>14.50</td>\n",
       "      <td>1.640</td>\n",
       "      <td>1.580</td>\n",
       "    </tr>\n",
       "    <tr>\n",
       "      <th>1</th>\n",
       "      <td>10.5000</td>\n",
       "      <td>17.80</td>\n",
       "      <td>1.080</td>\n",
       "      <td>2.640</td>\n",
       "    </tr>\n",
       "    <tr>\n",
       "      <th>2</th>\n",
       "      <td>8.7600</td>\n",
       "      <td>7.09</td>\n",
       "      <td>0.733</td>\n",
       "      <td>1.730</td>\n",
       "    </tr>\n",
       "    <tr>\n",
       "      <th>3</th>\n",
       "      <td>8.2065</td>\n",
       "      <td>6.20</td>\n",
       "      <td>1.201</td>\n",
       "      <td>0.937</td>\n",
       "    </tr>\n",
       "    <tr>\n",
       "      <th>4</th>\n",
       "      <td>17.6360</td>\n",
       "      <td>3.88</td>\n",
       "      <td>0.944</td>\n",
       "      <td>1.499</td>\n",
       "    </tr>\n",
       "  </tbody>\n",
       "</table>\n",
       "</div>"
      ],
      "text/plain": [
       "     a1WTg  a1bWTg  a1S270Tg  a1bS270Tg\n",
       "0  18.9000   14.50     1.640      1.580\n",
       "1  10.5000   17.80     1.080      2.640\n",
       "2   8.7600    7.09     0.733      1.730\n",
       "3   8.2065    6.20     1.201      0.937\n",
       "4  17.6360    3.88     0.944      1.499"
      ]
     },
     "execution_count": 42,
     "metadata": {},
     "output_type": "execute_result"
    }
   ],
   "source": [
    "jdeact = xl.parse(\"jump_deact\")\n",
    "jdeact.head()"
   ]
  },
  {
   "cell_type": "code",
   "execution_count": 43,
   "metadata": {},
   "outputs": [
    {
     "data": {
      "text/html": [
       "<div>\n",
       "<style scoped>\n",
       "    .dataframe tbody tr th:only-of-type {\n",
       "        vertical-align: middle;\n",
       "    }\n",
       "\n",
       "    .dataframe tbody tr th {\n",
       "        vertical-align: top;\n",
       "    }\n",
       "\n",
       "    .dataframe thead th {\n",
       "        text-align: right;\n",
       "    }\n",
       "</style>\n",
       "<table border=\"1\" class=\"dataframe\">\n",
       "  <thead>\n",
       "    <tr style=\"text-align: right;\">\n",
       "      <th></th>\n",
       "      <th>a1WTg</th>\n",
       "      <th>a1bWTg</th>\n",
       "      <th>a1S270Tg</th>\n",
       "      <th>a1bS270Tg</th>\n",
       "    </tr>\n",
       "  </thead>\n",
       "  <tbody>\n",
       "    <tr>\n",
       "      <th>count</th>\n",
       "      <td>6.000000</td>\n",
       "      <td>5.000000</td>\n",
       "      <td>6.000000</td>\n",
       "      <td>7.000000</td>\n",
       "    </tr>\n",
       "    <tr>\n",
       "      <th>mean</th>\n",
       "      <td>12.053408</td>\n",
       "      <td>9.894000</td>\n",
       "      <td>1.181333</td>\n",
       "      <td>1.540143</td>\n",
       "    </tr>\n",
       "    <tr>\n",
       "      <th>std</th>\n",
       "      <td>4.900064</td>\n",
       "      <td>5.945509</td>\n",
       "      <td>0.338714</td>\n",
       "      <td>0.557482</td>\n",
       "    </tr>\n",
       "    <tr>\n",
       "      <th>min</th>\n",
       "      <td>8.206500</td>\n",
       "      <td>3.880000</td>\n",
       "      <td>0.733000</td>\n",
       "      <td>0.937000</td>\n",
       "    </tr>\n",
       "    <tr>\n",
       "      <th>25%</th>\n",
       "      <td>8.428463</td>\n",
       "      <td>6.200000</td>\n",
       "      <td>0.978000</td>\n",
       "      <td>1.197500</td>\n",
       "    </tr>\n",
       "    <tr>\n",
       "      <th>50%</th>\n",
       "      <td>9.630000</td>\n",
       "      <td>7.090000</td>\n",
       "      <td>1.140500</td>\n",
       "      <td>1.499000</td>\n",
       "    </tr>\n",
       "    <tr>\n",
       "      <th>75%</th>\n",
       "      <td>15.852000</td>\n",
       "      <td>14.500000</td>\n",
       "      <td>1.417750</td>\n",
       "      <td>1.655000</td>\n",
       "    </tr>\n",
       "    <tr>\n",
       "      <th>max</th>\n",
       "      <td>18.900000</td>\n",
       "      <td>17.800000</td>\n",
       "      <td>1.640000</td>\n",
       "      <td>2.640000</td>\n",
       "    </tr>\n",
       "  </tbody>\n",
       "</table>\n",
       "</div>"
      ],
      "text/plain": [
       "           a1WTg     a1bWTg  a1S270Tg  a1bS270Tg\n",
       "count   6.000000   5.000000  6.000000   7.000000\n",
       "mean   12.053408   9.894000  1.181333   1.540143\n",
       "std     4.900064   5.945509  0.338714   0.557482\n",
       "min     8.206500   3.880000  0.733000   0.937000\n",
       "25%     8.428463   6.200000  0.978000   1.197500\n",
       "50%     9.630000   7.090000  1.140500   1.499000\n",
       "75%    15.852000  14.500000  1.417750   1.655000\n",
       "max    18.900000  17.800000  1.640000   2.640000"
      ]
     },
     "execution_count": 43,
     "metadata": {},
     "output_type": "execute_result"
    }
   ],
   "source": [
    "jdeact.describe()"
   ]
  },
  {
   "cell_type": "code",
   "execution_count": 44,
   "metadata": {},
   "outputs": [
    {
     "data": {
      "text/plain": [
       "n \t\t 6      \t  5\n",
       "Mean \t\t 12.053408    \t  9.894000\n",
       "SD \t\t 4.900064     \t  5.945509\n",
       "SDM \t\t 2.000443     \t  2.658913\n",
       "95% confidence intervals:\n",
       "lower \t\t 8.132541    \t  4.682531\n",
       "upper \t\t 15.974276    \t  15.105469\n",
       "\n",
       " Two-sample unpaired Students t-test:\n",
       " t = \t 0.648978\n",
       " two tail P = \t 5.326E-01"
      ]
     },
     "execution_count": 44,
     "metadata": {},
     "output_type": "execute_result"
    }
   ],
   "source": [
    "# DCstats t-test\n",
    "TTestContinuous(jdeact[\"a1WTg\"].dropna(), jdeact[\"a1bWTg\"].dropna(), are_paired=False)"
   ]
  },
  {
   "cell_type": "code",
   "execution_count": 45,
   "metadata": {},
   "outputs": [
    {
     "data": {
      "text/plain": [
       "n \t\t 6      \t  6\n",
       "Mean \t\t 12.053408    \t  1.181333\n",
       "SD \t\t 4.900064     \t  0.338714\n",
       "SDM \t\t 2.000443     \t  0.138279\n",
       "95% confidence intervals:\n",
       "lower \t\t 8.132541    \t  0.910306\n",
       "upper \t\t 15.974276    \t  1.452361\n",
       "\n",
       " Mean difference (dbar) = \t 10.872075\n",
       "  s(d) = \t 4.820486 \t s(dbar) = \t 1.967955\n",
       "\n",
       " Two-sample unpaired Students t-test:\n",
       " t = \t 5.421897\n",
       " two tail P = \t 2.922E-04"
      ]
     },
     "execution_count": 45,
     "metadata": {},
     "output_type": "execute_result"
    }
   ],
   "source": [
    "# DCstats t-test\n",
    "TTestContinuous(jdeact[\"a1WTg\"].dropna(), jdeact[\"a1S270Tg\"].dropna(), are_paired=False)"
   ]
  },
  {
   "cell_type": "code",
   "execution_count": 46,
   "metadata": {},
   "outputs": [
    {
     "data": {
      "text/plain": [
       "n \t\t 5      \t  7\n",
       "Mean \t\t 9.894000    \t  1.540143\n",
       "SD \t\t 5.945509     \t  0.557482\n",
       "SDM \t\t 2.658913     \t  0.210708\n",
       "95% confidence intervals:\n",
       "lower \t\t 4.682531    \t  1.127155\n",
       "upper \t\t 15.105469    \t  1.953131\n",
       "\n",
       " Two-sample unpaired Students t-test:\n",
       " t = \t 3.132013\n",
       " two tail P = \t 1.065E-02"
      ]
     },
     "execution_count": 46,
     "metadata": {},
     "output_type": "execute_result"
    }
   ],
   "source": [
    "# DCstats t-test\n",
    "TTestContinuous(jdeact[\"a1bWTg\"].dropna(), jdeact[\"a1bS270Tg\"].dropna(), are_paired=False)"
   ]
  },
  {
   "cell_type": "code",
   "execution_count": 47,
   "metadata": {},
   "outputs": [
    {
     "data": {
      "text/plain": [
       "F_onewayResult(statistic=14.487047916112456, pvalue=3.020395965601235e-05)"
      ]
     },
     "execution_count": 47,
     "metadata": {},
     "output_type": "execute_result"
    }
   ],
   "source": [
    "stats.f_oneway(jdeact['a1WTg'].dropna(), \n",
    "               jdeact['a1bWTg'].dropna(), \n",
    "               jdeact['a1S270Tg'].dropna(), \n",
    "               jdeact['a1bS270Tg'].dropna(),\n",
    "              )"
   ]
  },
  {
   "cell_type": "code",
   "execution_count": 48,
   "metadata": {},
   "outputs": [
    {
     "name": "stdout",
     "output_type": "stream",
     "text": [
      " Multiple Comparison of Means - Tukey HSD,FWER=0.05 \n",
      "====================================================\n",
      "  group1    group2  meandiff  lower    upper  reject\n",
      "----------------------------------------------------\n",
      " a1S270Tg   a1WTg   10.8721   5.002   16.7422  True \n",
      " a1S270Tg a1bS270Tg  0.3588  -5.2978   6.0154 False \n",
      " a1S270Tg   a1bWTg   8.7127   2.556   14.8693  True \n",
      "  a1WTg   a1bS270Tg -10.5133 -16.1698 -4.8567  True \n",
      "  a1WTg     a1bWTg  -2.1594   -8.316   3.9972 False \n",
      "a1bS270Tg   a1bWTg   8.3539   2.4005  14.3072  True \n",
      "----------------------------------------------------\n"
     ]
    },
    {
     "data": {
      "image/png": "[encoded data removed]",
      "text/plain": [
       "<Figure size 720x432 with 1 Axes>"
      ]
     },
     "metadata": {},
     "output_type": "display_data"
    }
   ],
   "source": [
    "tukey_summary_and_plot(stack_for_tukey(jdeact), jdeact.shape[1])"
   ]
  },
  {
   "cell_type": "code",
   "execution_count": 49,
   "metadata": {},
   "outputs": [
    {
     "ename": "SyntaxError",
     "evalue": "invalid syntax (<ipython-input-49-a96ba3aab008>, line 1)",
     "output_type": "error",
     "traceback": [
      "\u001b[1;36m  File \u001b[1;32m\"<ipython-input-49-a96ba3aab008>\"\u001b[1;36m, line \u001b[1;32m1\u001b[0m\n\u001b[1;33m    stop here\u001b[0m\n\u001b[1;37m            ^\u001b[0m\n\u001b[1;31mSyntaxError\u001b[0m\u001b[1;31m:\u001b[0m invalid syntax\n"
     ]
    }
   ],
   "source": [
    "stop here"
   ]
  },
  {
   "cell_type": "markdown",
   "metadata": {},
   "source": [
    "### Calculate Hedges statistics"
   ]
  },
  {
   "cell_type": "code",
   "execution_count": null,
   "metadata": {},
   "outputs": [],
   "source": [
    "#calculation of hedges d and approximate 95% confidence intervals\n",
    "#not tested against known values yet AP 170518\n",
    "hedges_calculation = Hedges_d(T1, T2)\n",
    "hedges_calculation.hedges_d_unbiased()\n",
    "#paired needed for degrees of freedom\n",
    "lowerCI, upperCI = hedges_calculation.bootstrap_CI(5000)\n",
    "#option to have bootstrap calculated CIs should go here\n",
    "print(hedges_calculation)"
   ]
  },
  {
   "cell_type": "markdown",
   "metadata": {},
   "source": [
    "### Run randomisation tests"
   ]
  },
  {
   "cell_type": "code",
   "execution_count": null,
   "metadata": {},
   "outputs": [],
   "source": [
    "nran = 50000\n",
    "rnt = RantestContinuous(T1, T2, are_paired)    \n",
    "rnt.run_rantest(nran)\n",
    "print(rnt)"
   ]
  },
  {
   "cell_type": "code",
   "execution_count": null,
   "metadata": {},
   "outputs": [],
   "source": [
    "fig, ax  = plt.subplots(1,1, figsize=(5,3))\n",
    "ax.hist(rnt.randiff, 10)\n",
    "ax.axvline(x=rnt.dbar, color='r')\n",
    "ax.set_ylabel(\"Frequency\")\n",
    "ax.set_xlabel('Random difference between means')\n",
    "print('Red line: mean difference')"
   ]
  },
  {
   "cell_type": "code",
   "execution_count": null,
   "metadata": {},
   "outputs": [],
   "source": []
  }
 ],
 "metadata": {
  "kernelspec": {
   "display_name": "Python 3",
   "language": "python",
   "name": "python3"
  },
  "language_info": {
   "codemirror_mode": {
    "name": "ipython",
    "version": 3
   },
   "file_extension": ".py",
   "mimetype": "text/x-python",
   "name": "python",
   "nbconvert_exporter": "python",
   "pygments_lexer": "ipython3",
   "version": "3.6.5"
  }
 },
 "nbformat": 4,
 "nbformat_minor": 2
}
