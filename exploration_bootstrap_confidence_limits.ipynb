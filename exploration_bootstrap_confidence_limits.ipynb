{
 "cells": [
  {
   "cell_type": "code",
   "execution_count": 1,
   "metadata": {},
   "outputs": [],
   "source": [
    "%matplotlib inline\n",
    "import matplotlib\n",
    "import matplotlib.pyplot as plt"
   ]
  },
  {
   "cell_type": "code",
   "execution_count": 2,
   "metadata": {},
   "outputs": [],
   "source": [
    "import numpy as np"
   ]
  },
  {
   "cell_type": "code",
   "execution_count": 3,
   "metadata": {},
   "outputs": [],
   "source": [
    "# Samples from treatment T1 and T2\n",
    "T1 = [100, 108, 119, 127, 132, 135, 136]#, 164]\n",
    "T2 = [122, 130, 138, 142, 152, 154, 176]\n",
    "are_paired = False"
   ]
  },
  {
   "cell_type": "code",
   "execution_count": 4,
   "metadata": {},
   "outputs": [],
   "source": [
    "def bootstrap(S, runs=5000):\n",
    "    simulations = np.zeros(runs)\n",
    "    mean = np.mean(S)\n",
    "    for i in range(runs):\n",
    "        simulations[i] = np.mean(np.random.choice(S, size=len(S), replace=True))\n",
    "    simulations.sort()\n",
    "    return simulations"
   ]
  },
  {
   "cell_type": "code",
   "execution_count": 5,
   "metadata": {},
   "outputs": [],
   "source": [
    "repeats = 50000\n",
    "booted = bootstrap(T1, repeats)"
   ]
  },
  {
   "cell_type": "code",
   "execution_count": 6,
   "metadata": {},
   "outputs": [
    {
     "name": "stdout",
     "output_type": "stream",
     "text": [
      "sample mean= 122.429; bootstrapped mean= 122.424; bias= 0.004\n",
      "sample SD= 14.010; sample SDM= 5.295; bootstrapped SDM= 4.904\n"
     ]
    }
   ],
   "source": [
    "print('sample mean= {0:.3f}; bootstrapped mean= {1:.3f}; bias= {2:.3f}'.\n",
    "     format(np.mean(T1), np.mean(booted), np.mean(T1)-np.mean(booted)))\n",
    "print('sample SD= {0:.3f}; sample SDM= {1:.3f}; bootstrapped SDM= {2:.3f}'.\n",
    "      format(np.std(T1, ddof=1), np.std(T1, ddof=1)/np.sqrt(len(T1)), np.std(booted, ddof=1)))"
   ]
  },
  {
   "cell_type": "code",
   "execution_count": 7,
   "metadata": {},
   "outputs": [
    {
     "name": "stdout",
     "output_type": "stream",
     "text": [
      "95% confidence limits (bootstrapping): lower= 112.286; upper= 131.429\n"
     ]
    }
   ],
   "source": [
    "lower95CI = booted[int(0.025 * repeats)]\n",
    "upper95CI = booted[int(0.975 * repeats)]\n",
    "print('95% confidence limits (bootstrapping): lower= {0:.3f}; upper= {1:.3f}'\n",
    "      .format(lower95CI, upper95CI))"
   ]
  },
  {
   "cell_type": "code",
   "execution_count": 8,
   "metadata": {},
   "outputs": [
    {
     "name": "stdout",
     "output_type": "stream",
     "text": [
      "95% confidence limits: lower= 112.050; upper= 132.807\n"
     ]
    }
   ],
   "source": [
    "z = 1.96 # z*-value from the standard normal distribution for 95% confidence level\n",
    "zlower95CI = np.mean(T1) - z * np.std(T1, ddof=1) / np.sqrt(len(T1))\n",
    "zupper95CI = np.mean(T1) + z * np.std(T1, ddof=1) / np.sqrt(len(T1))\n",
    "print('95% confidence limits: lower= {0:.3f}; upper= {1:.3f}'\n",
    "      .format(zlower95CI, zupper95CI))"
   ]
  },
  {
   "cell_type": "code",
   "execution_count": 9,
   "metadata": {},
   "outputs": [
    {
     "name": "stdout",
     "output_type": "stream",
     "text": [
      "Black solid line: original sample mean\n",
      "Black dashed line: bootstrap mean\n",
      "Red dashed lines: lower and upper 95% confidence limits\n"
     ]
    },
    {
     "data": {
      "image/png": "[encoded data removed]",
      "text/plain": [
       "<Figure size 360x216 with 1 Axes>"
      ]
     },
     "metadata": {},
     "output_type": "display_data"
    }
   ],
   "source": [
    "fig, ax  = plt.subplots(1,1, figsize=(5,3))\n",
    "ax.hist(booted, 20)\n",
    "ax.axvline(x=np.mean(T1), color='k')\n",
    "ax.axvline(x=np.mean(booted), color='k', linestyle=\"dashed\")\n",
    "ax.axvline(x=lower95CI, color='r', linestyle=\"dashed\")\n",
    "ax.axvline(x=upper95CI, color='r', linestyle=\"dashed\")\n",
    "ax.set_ylabel(\"Frequency\")\n",
    "ax.set_xlabel('Means')\n",
    "print('Black solid line: original sample mean')\n",
    "print('Black dashed line: bootstrap mean')\n",
    "print('Red dashed lines: lower and upper 95% confidence limits')"
   ]
  },
  {
   "cell_type": "code",
   "execution_count": null,
   "metadata": {},
   "outputs": [],
   "source": []
  }
 ],
 "metadata": {
  "kernelspec": {
   "display_name": "Python 3",
   "language": "python",
   "name": "python3"
  },
  "language_info": {
   "codemirror_mode": {
    "name": "ipython",
    "version": 3
   },
   "file_extension": ".py",
   "mimetype": "text/x-python",
   "name": "python",
   "nbconvert_exporter": "python",
   "pygments_lexer": "ipython3",
   "version": "3.6.5"
  }
 },
 "nbformat": 4,
 "nbformat_minor": 2
}
